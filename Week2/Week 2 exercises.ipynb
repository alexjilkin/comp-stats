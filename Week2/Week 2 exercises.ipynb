{
 "cells": [
  {
   "attachments": {},
   "cell_type": "markdown",
   "metadata": {},
   "source": [
    "University of Helsinki, Master's Programme in Mathematics and Statistics  \n",
    "MAST32001 Computational Statistics, Autumn 2023  \n",
    "Luigi Acerbi  \n",
    "\n",
    "# Week 2 exercises"
   ]
  },
  {
   "attachments": {},
   "cell_type": "markdown",
   "metadata": {},
   "source": [
    "## 1. Permutation testing (6 pts)\n",
    "\n",
    "We will use permutation testing to study if the mother's age (`age`) affects the birth weight (`bwt`) of their babies. We will use the absolute difference in the means as the test statistic. We will focus the analysis on full term pregnancies (`gestation >= 273`).\n",
    "\n",
    "*Note*: When reporting a $p$-value for $b$ more extreme tests out of $m$, use $p = (b+1)/(m+1)$ to avoid zero p-values. 50000 permutations will be sufficient for obtaining the required accuracy.\n",
    "\n",
    "1. Load the data set below. Test whether the birth weights (`bwt`) of babies with young (`age < 26`) and older (`age >= 26`) mothers are statistically significantly different using the difference of the means as the test statistic. Report the $p$-value you obtain in Moodle.\n",
    "2. Stratify the analysis by the variable smoking status of the mothers by splitting to separate smoker (`smoke = 0`) and non-smoker (`smoke = 1`) groups. Constrain the permutations so that only changes within each group are allowed. After the permutation, merge the two groups back together to compute the means. Report the $p$-value you obtain in Moodle."
   ]
  },
  {
   "cell_type": "code",
   "execution_count": 3,
   "metadata": {},
   "outputs": [
    {
     "name": "stdout",
     "output_type": "stream",
     "text": [
      "p-value: 0.07431851362972741\n"
     ]
    }
   ],
   "source": [
    "import pandas as pd\n",
    "import numpy as np\n",
    "import numpy.random as npr\n",
    "import matplotlib.pyplot as plt\n",
    "\n",
    "def shuffle(x1, x2):\n",
    "    \"\"\"Return a random reshuffling of elements in two arrays\"\"\" \n",
    "    n1 = len(x1)\n",
    "    z = npr.permutation(np.concatenate((x1, x2)))\n",
    "    return z[0:n1], z[n1:]\n",
    "\n",
    "# Load the data set\n",
    "babies_full = pd.read_csv(\"https://raw.githubusercontent.com/lacerbi/compstats-files/main/data/babies2.txt\", sep='\\t')\n",
    "\n",
    "# Pick a subset\n",
    "babies = babies_full[babies_full['gestation']>=273]\n",
    "bwt_1 = babies[(babies['age']<26)]['bwt']\n",
    "bwt_2 = babies[(babies['age']>=26)]['bwt']\n",
    "\n",
    "N = 50000\n",
    "\n",
    "truediff = np.abs(np.mean(bwt_1) - np.mean(bwt_2))\n",
    "# Repeatedly randomly permute to mix the groups\n",
    "meandiffs = [] \n",
    "for i in range(N):\n",
    "    new_bwt1, new_bwt2 = shuffle(bwt_1,bwt_2)\n",
    "\n",
    "    meandiffs.append(np.abs(np.mean(new_bwt1) - np.mean(new_bwt2)))\n",
    "\n",
    "print(f'p-value: {(np.sum(truediff <= meandiffs)+1)/(len(meandiffs)+1)}')\n"
   ]
  },
  {
   "attachments": {},
   "cell_type": "markdown",
   "metadata": {},
   "source": [
    "## 2. Bootstrap confidence intervals on data statistics (4 pts)\n",
    "\n",
    "In this exercise we use bootstrap to estimate confidence intervals for various quantities. (Using 1000 bootstrap samples will give you enough accuracy assuming everything is correctly done.)\n",
    "\n",
    "1. Use bootstrap to estimate the central 95% confidence interval for the mean of `bwt` in the *full* data set loaded in Problem 1. Report the lower and upper ends of the interval in Moodle.\n",
    "2. Use bootstrap to estimate the central 95% confidence interval for the mean of `bwt` in the smaller subset (`gestation >= 273`) of the data set used in Problem 1. Report the lower and upper ends of the interval in Moodle.\n",
    "3. Use bootstrap to estimate the central 95% confidence interval for the correlation coefficient of `gestation` and `age` in the full data set loaded in Problem 1. What does this tell about the relation between the duration of the pregnancy and the age of the mother? Report the bounds of the interval in Moodle.\n",
    "4. Use bootstrap to estimate the central 95% confidence interval for the correlation coefficient of `gestation` and `age` in the smaller subset (`gestation >= 273`) used in Problem 1. What does this tell about the relation between the duration of the pregnancy and the age of the mother? Report the bounds of the interval in Moodle.\n",
    "\n",
    "*Hint*: Remember that the size of the bootstrap sample is always the same as the size of the original data set."
   ]
  },
  {
   "cell_type": "code",
   "execution_count": 4,
   "metadata": {},
   "outputs": [
    {
     "name": "stdout",
     "output_type": "stream",
     "text": [
      "(1) The 5% confidence interval of means are: [118.48164962 120.52657715]\n",
      "(2) The 5% confidence interval of subset means are: [122.41945402 124.59658046]\n",
      "(3) The 5% confidence interval of corrcoefs between gestation and age in full dataset are: [-0.10797297  0.00112454]\n",
      "(4) The 5% confidence interval of corrcoefs between gestation and age in subset are: [-0.09263285  0.03768423]\n"
     ]
    }
   ],
   "source": [
    "N = 1000\n",
    "\n",
    "bwt = babies_full['bwt']\n",
    "n = len(bwt)\n",
    "means = [np.mean(npr.choice(bwt, size=n, replace=True)) for _ in range(N)]\n",
    "print(f'(1) The 5% confidence interval of means are: {np.percentile(means, [2.5, 97.5])}')\n",
    "\n",
    "subset_babies = babies_full.iloc[(babies_full['gestation']>=273).values]\n",
    "bwt = subset_babies['bwt']\n",
    "n = len(bwt)\n",
    "means = [np.mean(npr.choice(bwt, size=n, replace=True)) for _ in range(N)]\n",
    "print(f'(2) The 5% confidence interval of subset means are: {np.percentile(means, [2.5, 97.5])}')\n",
    "\n",
    "corrcoefs = np.empty(N)\n",
    "for i in range(N):\n",
    "    resampled = babies_full.sample(n=len(babies_full), replace=True)\n",
    "    corrcoefs[i] = np.corrcoef(resampled['gestation'], resampled['age'])[0, 1]\n",
    "print(f'(3) The 5% confidence interval of corrcoefs between gestation and age in full dataset are: {np.percentile(corrcoefs, [2.5, 97.5])}')\n",
    "\n",
    "corrcoefs = np.empty(N)\n",
    "for i in range(N):\n",
    "    resampled = subset_babies.sample(n=len(subset_babies), replace=True)\n",
    "    corrcoefs[i] = np.corrcoef(resampled['gestation'], resampled['age'])[0, 1]\n",
    "\n",
    "print(f'(4) The 5% confidence interval of corrcoefs between gestation and age in subset are: {np.percentile(corrcoefs, [2.5, 97.5])}')\n"
   ]
  },
  {
   "attachments": {},
   "cell_type": "markdown",
   "metadata": {},
   "source": [
    "## 3. Bootstrap confidence intervals on parameter estimates (4 pts)\n",
    "\n",
    "In this task, we will use bootstrap to obtain confidence intervals on maximum likelihood parameter estimates for linear regression models. We will apply simple case resampling, i.e. resampling the individuals and then fitting the model using the data $(x_i, y_i)$ from these individuals. There are alternative methods that may work better when the data are limited, but in our case there are enough observations so that this will not be a problem. 1000 bootstrap samples will again give you enough accuracy.\n",
    "\n",
    "A linear regression fit to scalar $x_i, y_i$ involves fitting the model\n",
    "$$ y_i = \\alpha + \\beta x_i + \\epsilon_i, $$\n",
    "where $\\beta$ is the regression coefficient and $\\alpha$ is the intercept. Assuming $\\epsilon_i \\sim N(0, \\sigma^2)$, the log-likelihood of the model is\n",
    "$$ \\log p(Y | X, \\alpha, \\beta) = \\sum_{i=1}^n \\log p(y_i | x_i, \\alpha, \\beta)\n",
    "  = \\sum_{i=1}^n - \\frac{1}{2 \\sigma^2} (y_i - \\alpha - \\beta x_i)^2 + C, $$\n",
    "where $C$ is independent of $\\alpha, \\beta$. This is maximised when\n",
    "$$ \\hat{\\beta}= \\frac{\\sum_{i = 1}^n (x_i - \\bar{x})(y_i - \\bar{y}) }{ \\sum_{i = 1}^n (x_i - \\bar{x})^2} \\\\\n",
    "   \\hat{\\alpha} = \\bar{y} - \\hat{\\beta} \\bar{x},$$\n",
    "where $\\bar{x} = \\frac{1}{n} \\sum_{i = 1}^n x_i$ and $\\bar{y} = \\frac{1}{n} \\sum_{i = 1}^n y_i$.\n",
    "\n",
    "1. Implement the above linear regression model to predict `gestation` ($y$) as a function of `age` ($x$) in the full data set. Report the estimated $\\beta$ in Moodle.\n",
    "2. Use bootstrap to estimate the confidence interval of the regression coefficient $\\beta$ in the above model by resampling the individuals used to fit the model. Report the lower and upper bounds of the central 95% confidence interval of $\\beta$ in Moodle.\n"
   ]
  },
  {
   "cell_type": "code",
   "execution_count": 5,
   "metadata": {},
   "outputs": [],
   "source": [
    "import pandas as pd\n",
    "import numpy as np\n",
    "import numpy.random as npr\n",
    "\n",
    "# Load the data set\n",
    "babies_full = pd.read_csv(\"https://raw.githubusercontent.com/lacerbi/compstats-files/main/data/babies2.txt\", sep='\\t')\n",
    "\n",
    "babies3 = babies_full"
   ]
  },
  {
   "attachments": {},
   "cell_type": "markdown",
   "metadata": {},
   "source": [
    "## 4. Density estimation (6 pts)\n",
    "\n",
    "1. Estimate the joint density of `bwt` and `age` in the full data set using kernel density estimation with a 2-dimensional Gaussian kernel\n",
    "$$ K(\\mathbf{x}) = \\frac{1}{2\\pi} \\exp\\left( - \\frac{\\|\\mathbf{x}\\|^2}{2} \\right)\n",
    " = \\frac{1}{2\\pi} \\exp\\left( - \\frac{x_1^2 + x_2^2}{2} \\right) $$\n",
    "using bandwidth $h=5$. Report the value of the estimated density at point `bwt=110`, `age=31` in Moodle.\n",
    "\n",
    "*Hint*: you can verify your results by ploting a 2D histogram of the data (`matplotlib.pyplot.hist2d`) and a contour plot of the estimated density (see e.g. Sec. 5.1.1 in Course notes for a contour plot example).\n",
    "\n",
    "2. With the Gaussian kernel above, use leave-one-out (LOO) cross validation to find the optimal $h$ in the range `np.linspace(1.0, 5.0, 50)`. The optimal $h$ maximizes the LOO log-likelihood. Report the value of $h$ and the value of the estimated density at `bwt=110`, `age=31` in Moodle.\n",
    "\n",
    "3. Use $k$-fold cross validation with $k=17$ to find the optimal $h$ in the range `np.linspace(1.0, 5.0, 50)`. Report the value of $h$ and the value of the estimated density at `bwt=110`, `age=31` in Moodle. For this exercise, the sample point indices for the $k$ partitions of the data should consist of consecutive indices, e.g. the first partition should be the data with indices `0:69` and so on. (In practical applications it is generally good practice to randomly permute the indices as well when creating partitions, but don't do it for this exercise.)"
   ]
  },
  {
   "cell_type": "code",
   "execution_count": 24,
   "metadata": {},
   "outputs": [
    {
     "name": "stdout",
     "output_type": "stream",
     "text": [
      "Estimate at (110, 31): 0.0007101226311426002\n"
     ]
    },
    {
     "data": {
      "image/png": "[encoded data removed]",
      "text/plain": [
       "<Figure size 640x480 with 2 Axes>"
      ]
     },
     "metadata": {},
     "output_type": "display_data"
    }
   ],
   "source": [
    "import numpy as np\n",
    "import matplotlib.pyplot as plt\n",
    "\n",
    "bwt_data = np.array(babies_full['bwt'].values)\n",
    "age_data = np.array(babies_full['age'].values)\n",
    "\n",
    "# Step 2: KDE\n",
    "def gaussian_kernel(x, y):\n",
    "    return (1/(2*np.pi)) * np.exp(-0.5 * (x**2 + y**2))\n",
    "\n",
    "def kde(bwt_data, age_data, x, y, h):\n",
    "    n = len(bwt_data)\n",
    "    sum_k = 0\n",
    "    for i in range(n):\n",
    "        x_diff = (x - bwt_data[i]) / h\n",
    "        y_diff = (y - age_data[i]) / h\n",
    "        sum_k += gaussian_kernel(x_diff, y_diff)\n",
    "    \n",
    "    return sum_k / (n * h**2)\n",
    "\n",
    "# Step 3: Estimate density at point (110, 31)\n",
    "density_estimate = kde(bwt_data, age_data, 110, 31, 5)\n",
    "\n",
    "print(f'Estimate at (110, 31): {density_estimate}')\n",
    "\n",
    "# Step 4: Visualization (optional)\n",
    "# Generate grid for contour plot\n",
    "x = np.linspace(min(bwt_data), max(bwt_data), 100)\n",
    "y = np.linspace(min(age_data), max(age_data), 100)\n",
    "x, y = np.meshgrid(x, y)\n",
    "\n",
    "# Generate KDE values for the grid\n",
    "# z = np.vectorize(kde)(bwt_data, age_data, x, y, 5)\n",
    "\n",
    "# Plot 2D histogram\n",
    "plt.hist2d(bwt_data, age_data, bins=40, density=True)\n",
    "plt.colorbar(label='Density')\n",
    "plt.xlabel('bwt')\n",
    "plt.ylabel('age')\n",
    "plt.title('2D Histogram')\n",
    "plt.show()\n",
    "\n",
    "# # Plot contour plot\n",
    "# plt.contourf(x, y, z, levels=10)\n",
    "# plt.colorbar(label='Density')\n",
    "# plt.xlabel('bwt')\n",
    "# plt.ylabel('age')\n",
    "# plt.title('Contour Plot')\n",
    "# plt.show()\n"
   ]
  },
  {
   "cell_type": "code",
   "execution_count": null,
   "metadata": {},
   "outputs": [],
   "source": []
  }
 ],
 "metadata": {
  "kernelspec": {
   "display_name": "Python 3 (ipykernel)",
   "language": "python",
   "name": "python3"
  },
  "language_info": {
   "codemirror_mode": {
    "name": "ipython",
    "version": 3
   },
   "file_extension": ".py",
   "mimetype": "text/x-python",
   "name": "python",
   "nbconvert_exporter": "python",
   "pygments_lexer": "ipython3",
   "version": "3.10.9"
  }
 },
 "nbformat": 4,
 "nbformat_minor": 1
}
