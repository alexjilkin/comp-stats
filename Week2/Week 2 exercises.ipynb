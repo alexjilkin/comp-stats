{
 "cells": [
  {
   "attachments": {},
   "cell_type": "markdown",
   "metadata": {},
   "source": [
    "University of Helsinki, Master's Programme in Mathematics and Statistics  \n",
    "MAST32001 Computational Statistics, Autumn 2023  \n",
    "Luigi Acerbi  \n",
    "\n",
    "# Week 2 exercises"
   ]
  },
  {
   "attachments": {},
   "cell_type": "markdown",
   "metadata": {},
   "source": [
    "## 1. Permutation testing (6 pts)\n",
    "\n",
    "We will use permutation testing to study if the mother's age (`age`) affects the birth weight (`bwt`) of their babies. We will use the absolute difference in the means as the test statistic. We will focus the analysis on full term pregnancies (`gestation >= 273`).\n",
    "\n",
    "*Note*: When reporting a $p$-value for $b$ more extreme tests out of $m$, use $p = (b+1)/(m+1)$ to avoid zero p-values. 50000 permutations will be sufficient for obtaining the required accuracy.\n",
    "\n",
    "1. Load the data set below. Test whether the birth weights (`bwt`) of babies with young (`age < 26`) and older (`age >= 26`) mothers are statistically significantly different using the difference of the means as the test statistic. Report the $p$-value you obtain in Moodle.\n",
    "2. Stratify the analysis by the variable smoking status of the mothers by splitting to separate smoker (`smoke = 0`) and non-smoker (`smoke = 1`) groups. Constrain the permutations so that only changes within each group are allowed. After the permutation, merge the two groups back together to compute the means. Report the $p$-value you obtain in Moodle."
   ]
  },
  {
   "cell_type": "code",
   "execution_count": 76,
   "metadata": {},
   "outputs": [
    {
     "name": "stdout",
     "output_type": "stream",
     "text": [
      "(1) p-value: 0.0742385152296954\n",
      "(2) p-value: 0.08061838763224735\n"
     ]
    }
   ],
   "source": [
    "import pandas as pd\n",
    "import numpy as np\n",
    "import numpy.random as npr\n",
    "import matplotlib.pyplot as plt\n",
    "\n",
    "def shuffle(x1, x2):\n",
    "    \"\"\"Return a random reshuffling of elements in two arrays\"\"\" \n",
    "    n1 = len(x1)\n",
    "    z = npr.permutation(np.concatenate((x1, x2)))\n",
    "    return z[0:n1], z[n1:]\n",
    "\n",
    "# Load the data set\n",
    "babies_full = pd.read_csv(\"https://raw.githubusercontent.com/lacerbi/compstats-files/main/data/babies2.txt\", sep='\\t')\n",
    "\n",
    "#### 1.1 #### \n",
    "\n",
    "# Pick a subset\n",
    "babies = babies_full[babies_full['gestation']>=273]\n",
    "bwt_1 = babies[(babies['age']<26)]['bwt']\n",
    "bwt_2 = babies[(babies['age']>=26)]['bwt']\n",
    "\n",
    "N = 50000\n",
    "\n",
    "truediff = np.abs(np.mean(bwt_1) - np.mean(bwt_2))\n",
    "# Repeatedly randomly permute to mix the groups\n",
    "meandiffs = [] \n",
    "for i in range(N):\n",
    "    new_bwt1, new_bwt2 = shuffle(bwt_1,bwt_2)\n",
    "\n",
    "    meandiffs.append(np.abs(np.mean(new_bwt1) - np.mean(new_bwt2)))\n",
    "\n",
    "print(f'(1) p-value: {(np.sum(truediff <= meandiffs)+1)/(len(meandiffs)+1)}')\n",
    "\n",
    "\n",
    "#### 1.2 ###\n",
    "babies_smoke = babies[babies['smoke'] == 1]\n",
    "babies_no_smoke = babies[babies['smoke'] == 0]\n",
    "\n",
    "bwt1_smoke = babies_smoke[babies_smoke['age'] < 26]['bwt']\n",
    "bwt2_smoke = babies_smoke[babies_smoke['age'] >= 26]['bwt']\n",
    "\n",
    "bwt1_no_smoke = babies_no_smoke[babies_no_smoke['age'] < 26]['bwt']\n",
    "bwt2_no_smoke = babies_no_smoke[babies_no_smoke['age'] >= 26]['bwt']\n",
    "\n",
    "truediff = np.abs(np.mean(np.append(bwt1_smoke, bwt1_no_smoke)) - np.mean(np.append(bwt2_smoke, bwt2_no_smoke)))\n",
    "\n",
    "meandiffs = []\n",
    "for i in range(N):\n",
    "    new_bwt1_smoke, new_bwt2_smoke = shuffle(bwt1_smoke, bwt2_smoke)\n",
    "    new_bwt1_no_smoke, new_bwt2_no_smoke = shuffle(bwt1_no_smoke, bwt2_no_smoke)\n",
    "\n",
    "    meandiffs.append(np.abs(np.mean(np.append(new_bwt1_smoke,new_bwt1_no_smoke)) - np.mean(np.append(new_bwt2_smoke, new_bwt2_no_smoke))))\n",
    "\n",
    "print(f'(2) p-value: { (np.sum(truediff <= meandiffs) + 1) / (len(meandiffs) + 1)}')\n"
   ]
  },
  {
   "attachments": {},
   "cell_type": "markdown",
   "metadata": {},
   "source": [
    "## 2. Bootstrap confidence intervals on data statistics (4 pts)\n",
    "\n",
    "In this exercise we use bootstrap to estimate confidence intervals for various quantities. (Using 1000 bootstrap samples will give you enough accuracy assuming everything is correctly done.)\n",
    "\n",
    "1. Use bootstrap to estimate the central 95% confidence interval for the mean of `bwt` in the *full* data set loaded in Problem 1. Report the lower and upper ends of the interval in Moodle.\n",
    "2. Use bootstrap to estimate the central 95% confidence interval for the mean of `bwt` in the smaller subset (`gestation >= 273`) of the data set used in Problem 1. Report the lower and upper ends of the interval in Moodle.\n",
    "3. Use bootstrap to estimate the central 95% confidence interval for the correlation coefficient of `gestation` and `age` in the full data set loaded in Problem 1. What does this tell about the relation between the duration of the pregnancy and the age of the mother? Report the bounds of the interval in Moodle.\n",
    "4. Use bootstrap to estimate the central 95% confidence interval for the correlation coefficient of `gestation` and `age` in the smaller subset (`gestation >= 273`) used in Problem 1. What does this tell about the relation between the duration of the pregnancy and the age of the mother? Report the bounds of the interval in Moodle.\n",
    "\n",
    "*Hint*: Remember that the size of the bootstrap sample is always the same as the size of the original data set."
   ]
  },
  {
   "cell_type": "code",
   "execution_count": 57,
   "metadata": {},
   "outputs": [
    {
     "name": "stdout",
     "output_type": "stream",
     "text": [
      "(1) The 5% confidence interval of means are: [118.40142796 120.52365729]\n",
      "(2) The 5% confidence interval of subset means are: [122.37772989 124.61399425]\n",
      "(3) The 5% confidence interval of corrcoefs between gestation and age in full dataset are: [-0.10864953  0.0017354 ]\n",
      "(4) The 5% confidence interval of corrcoefs between gestation and age in subset are: [-0.0931873  0.0392189]\n"
     ]
    }
   ],
   "source": [
    "N = 1000\n",
    "\n",
    "bwt = babies_full['bwt']\n",
    "n = len(bwt)\n",
    "means = [np.mean(npr.choice(bwt, size=n, replace=True)) for _ in range(N)]\n",
    "print(f'(1) The 5% confidence interval of means are: {np.percentile(means, [2.5, 97.5])}')\n",
    "\n",
    "subset_babies = babies_full.iloc[(babies_full['gestation']>=273).values]\n",
    "bwt = subset_babies['bwt']\n",
    "n = len(bwt)\n",
    "means = [np.mean(npr.choice(bwt, size=n, replace=True)) for _ in range(N)]\n",
    "print(f'(2) The 5% confidence interval of subset means are: {np.percentile(means, [2.5, 97.5])}')\n",
    "\n",
    "corrcoefs = np.empty(N)\n",
    "for i in range(N):\n",
    "    resampled = babies_full.sample(n=len(babies_full), replace=True)\n",
    "    corrcoefs[i] = np.corrcoef(resampled['gestation'], resampled['age'])[0, 1]\n",
    "print(f'(3) The 5% confidence interval of corrcoefs between gestation and age in full dataset are: {np.percentile(corrcoefs, [2.5, 97.5])}')\n",
    "\n",
    "corrcoefs = np.empty(N)\n",
    "for i in range(N):\n",
    "    resampled = subset_babies.sample(n=len(subset_babies), replace=True)\n",
    "    corrcoefs[i] = np.corrcoef(resampled['gestation'], resampled['age'])[0, 1]\n",
    "\n",
    "print(f'(4) The 5% confidence interval of corrcoefs between gestation and age in subset are: {np.percentile(corrcoefs, [2.5, 97.5])}')\n"
   ]
  },
  {
   "attachments": {},
   "cell_type": "markdown",
   "metadata": {},
   "source": [
    "## 3. Bootstrap confidence intervals on parameter estimates (4 pts)\n",
    "\n",
    "In this task, we will use bootstrap to obtain confidence intervals on maximum likelihood parameter estimates for linear regression models. We will apply simple case resampling, i.e. resampling the individuals and then fitting the model using the data $(x_i, y_i)$ from these individuals. There are alternative methods that may work better when the data are limited, but in our case there are enough observations so that this will not be a problem. 1000 bootstrap samples will again give you enough accuracy.\n",
    "\n",
    "A linear regression fit to scalar $x_i, y_i$ involves fitting the model\n",
    "$$ y_i = \\alpha + \\beta x_i + \\epsilon_i, $$\n",
    "where $\\beta$ is the regression coefficient and $\\alpha$ is the intercept. Assuming $\\epsilon_i \\sim N(0, \\sigma^2)$, the log-likelihood of the model is\n",
    "$$ \\log p(Y | X, \\alpha, \\beta) = \\sum_{i=1}^n \\log p(y_i | x_i, \\alpha, \\beta)\n",
    "  = \\sum_{i=1}^n - \\frac{1}{2 \\sigma^2} (y_i - \\alpha - \\beta x_i)^2 + C, $$\n",
    "where $C$ is independent of $\\alpha, \\beta$. This is maximised when\n",
    "$$ \\hat{\\beta}= \\frac{\\sum_{i = 1}^n (x_i - \\bar{x})(y_i - \\bar{y}) }{ \\sum_{i = 1}^n (x_i - \\bar{x})^2} \\\\\n",
    "   \\hat{\\alpha} = \\bar{y} - \\hat{\\beta} \\bar{x},$$\n",
    "where $\\bar{x} = \\frac{1}{n} \\sum_{i = 1}^n x_i$ and $\\bar{y} = \\frac{1}{n} \\sum_{i = 1}^n y_i$.\n",
    "\n",
    "1. Implement the above linear regression model to predict `gestation` ($y$) as a function of `age` ($x$) in the full data set. Report the estimated $\\beta$ in Moodle.\n",
    "2. Use bootstrap to estimate the confidence interval of the regression coefficient $\\beta$ in the above model by resampling the individuals used to fit the model. Report the lower and upper bounds of the central 95% confidence interval of $\\beta$ in Moodle.\n"
   ]
  },
  {
   "cell_type": "code",
   "execution_count": 79,
   "metadata": {},
   "outputs": [
    {
     "name": "stdout",
     "output_type": "stream",
     "text": [
      "Estimated beta is: -0.14772779151120377\n",
      "The 5% confidence interval of betas are: [-0.32153177  0.03614683]\n"
     ]
    }
   ],
   "source": [
    "import pandas as pd\n",
    "import numpy as np\n",
    "import numpy.random as npr\n",
    "\n",
    "# Load the data set\n",
    "babies_full = pd.read_csv(\"https://raw.githubusercontent.com/lacerbi/compstats-files/main/data/babies2.txt\", sep='\\t')\n",
    "N = 1000\n",
    "y = babies_full['gestation']\n",
    "x = babies_full['age']\n",
    "n = len(x)\n",
    "\n",
    "beta = np.sum((y - np.mean(y)) * (x - np.mean(x))) / np.sum((x - np.mean(x)) ** 2)\n",
    "\n",
    "print(f'Estimated beta is: {beta}')\n",
    "\n",
    "betas = []\n",
    "for i in range(N):\n",
    "    resampled = babies_full.sample(n=len(subset_babies), replace=True)\n",
    "    y = resampled['gestation']\n",
    "    x = resampled['age']\n",
    "\n",
    "    betas.append(np.sum((y - np.mean(y)) * (x - np.mean(x))) / np.sum((x - np.mean(x)) ** 2))\n",
    "\n",
    "print(f'The 5% confidence interval of betas are: {np.percentile(betas, [2.5, 97.5])}')"
   ]
  },
  {
   "attachments": {},
   "cell_type": "markdown",
   "metadata": {},
   "source": [
    "## 4. Density estimation (6 pts)\n",
    "\n",
    "1. Estimate the joint density of `bwt` and `age` in the full data set using kernel density estimation with a 2-dimensional Gaussian kernel\n",
    "$$ K(\\mathbf{x}) = \\frac{1}{2\\pi} \\exp\\left( - \\frac{\\|\\mathbf{x}\\|^2}{2} \\right)\n",
    " = \\frac{1}{2\\pi} \\exp\\left( - \\frac{x_1^2 + x_2^2}{2} \\right) $$\n",
    "using bandwidth $h=5$. Report the value of the estimated density at point `bwt=110`, `age=31` in Moodle.\n",
    "\n",
    "*Hint*: you can verify your results by ploting a 2D histogram of the data (`matplotlib.pyplot.hist2d`) and a contour plot of the estimated density (see e.g. Sec. 5.1.1 in Course notes for a contour plot example).\n",
    "\n",
    "2. With the Gaussian kernel above, use leave-one-out (LOO) cross validation to find the optimal $h$ in the range `np.linspace(1.0, 5.0, 50)`. The optimal $h$ maximizes the LOO log-likelihood. Report the value of $h$ and the value of the estimated density at `bwt=110`, `age=31` in Moodle.\n",
    "\n",
    "3. Use $k$-fold cross validation with $k=17$ to find the optimal $h$ in the range `np.linspace(1.0, 5.0, 50)`. Report the value of $h$ and the value of the estimated density at `bwt=110`, `age=31` in Moodle. For this exercise, the sample point indices for the $k$ partitions of the data should consist of consecutive indices, e.g. the first partition should be the data with indices `0:69` and so on. (In practical applications it is generally good practice to randomly permute the indices as well when creating partitions, but don't do it for this exercise.)"
   ]
  },
  {
   "cell_type": "code",
   "execution_count": null,
   "metadata": {},
   "outputs": [
    {
     "data": {
      "image/png": "[encoded data removed]",
      "text/plain": [
       "<Figure size 640x480 with 2 Axes>"
      ]
     },
     "metadata": {},
     "output_type": "display_data"
    },
    {
     "name": "stdout",
     "output_type": "stream",
     "text": [
      "Estimate at (110, 31): 0.0007101226311426002\n"
     ]
    }
   ],
   "source": [
    "import numpy as np\n",
    "import matplotlib.pyplot as plt\n",
    "\n",
    "bwt = np.array(babies_full['bwt'])\n",
    "age = np.array(babies_full['age'])\n",
    "\n",
    "def gaussian_kernel(x, y):\n",
    "    return (1/(2*np.pi)) * np.exp(-0.5 * (x**2 + y**2))\n",
    "\n",
    "def gaussian_density_2d(data1, data2, x, y, h):\n",
    "    n = len(data1)\n",
    "    sum = 0\n",
    "    for i in range(n):\n",
    "        x_diff = (x - data1[i]) / h\n",
    "        y_diff = (y - data2[i]) / h\n",
    "        sum += gaussian_kernel(x_diff, y_diff)\n",
    "    \n",
    "    return sum / (n * h**2)\n",
    "\n",
    "# Hostogram\n",
    "plt.hist2d(bwt, age, bins=60, density=True)\n",
    "plt.colorbar(label='Density')\n",
    "plt.xlabel('bwt')\n",
    "plt.ylabel('age')\n",
    "plt.show()\n",
    "\n",
    "## 1 ##\n",
    "print(f'Estimate at (110, 31): {gaussian_density_2d(bwt, age, 110, 31, 5)}')\n"
   ]
  },
  {
   "cell_type": "code",
   "execution_count": null,
   "metadata": {},
   "outputs": [
    {
     "name": "stdout",
     "output_type": "stream",
     "text": [
      "2.3061224489795915\n",
      "Estimate at (110, 31): 0.0005836157630220634 with opt_h=2.3061224489795915\n"
     ]
    }
   ],
   "source": [
    "## 4.2 ## \n",
    "\n",
    "def LOO(d1, d2, hs):\n",
    "    n = len(d1)\n",
    "    best_h = -1\n",
    "    max_log_p = -np.inf\n",
    "    \n",
    "    for h in hs:\n",
    "        log_p = 0\n",
    "\n",
    "        for i in range(n):\n",
    "            x, y = d1[i], d2[i]\n",
    "            \n",
    "            density_estimate = gaussian_density_2d(np.delete(d1, i),  np.delete(d2, i), x, y, h)\n",
    "            log_p += np.log(density_estimate)\n",
    "        \n",
    "        if log_p > max_log_p:\n",
    "            max_log_p = log_p\n",
    "            best_h = h\n",
    "    \n",
    "    return best_h, max_log_p\n",
    "\n",
    "hs = np.linspace(1.0, 5.0, 50)\n",
    "\n",
    "optimal_h, max_log_p = LOO(bwt, age, hs)\n",
    "\n",
    "print(optimal_h)\n",
    "print(f\"Estimate at (110, 31): {gaussian_density_2d(bwt, age, 110, 31, optimal_h)} with opt_h={optimal_h}\")"
   ]
  },
  {
   "cell_type": "code",
   "execution_count": null,
   "metadata": {},
   "outputs": [],
   "source": [
    "## 4.3 ##\n",
    "\n",
    "def k_fold_cv(d1, d2, hs, k=17):\n",
    "    n = len(d1)\n",
    "    fold_size = n // k\n",
    "    best_h = -1\n",
    "    max_log_p = -np.inf\n",
    "\n",
    "    for h in hs:\n",
    "        log_p_sum = 0\n",
    "\n",
    "        for i in range(k):\n",
    "            validation_indices = range(i * fold_size, (i + 1) * fold_size if i != k - 1 else n)\n",
    "            training_indices = list(set(range(n)) - set(validation_indices))\n",
    "            \n",
    "            training_d1 = d1[training_indices]\n",
    "            training_d2 = d2[training_indices]\n",
    "\n",
    "            validation_d1 = d1[validation_indices]\n",
    "            validation_d2 = d2[validation_indices]\n",
    "\n",
    "            log_p = 0\n",
    "            for j in range(len(validation_indices)):\n",
    "                x, y = validation_d1[j], validation_d2[j]\n",
    "                \n",
    "                density_estimate = gaussian_density_2d(training_d1, training_d2, x, y, h)\n",
    "                log_p += np.log(density_estimate)\n",
    "\n",
    "            log_p_sum += log_p\n",
    "\n",
    "        if log_p_sum > max_log_p:\n",
    "            max_log_p = log_p_sum\n",
    "            best_h = h\n",
    "\n",
    "    return best_h, max_log_p\n",
    "\n",
    "optimal_h, max_log_p = k_fold_cv(bwt, age, hs)\n",
    "\n",
    "print(optimal_h)\n",
    "print(f\"(3) Estimate at (110, 31): {gaussian_density_2d(bwt, age, 110, 31, optimal_h)} with opt_h={optimal_h}\")"
   ]
  }
 ],
 "metadata": {
  "kernelspec": {
   "display_name": "Python 3 (ipykernel)",
   "language": "python",
   "name": "python3"
  },
  "language_info": {
   "codemirror_mode": {
    "name": "ipython",
    "version": 3
   },
   "file_extension": ".py",
   "mimetype": "text/x-python",
   "name": "python",
   "nbconvert_exporter": "python",
   "pygments_lexer": "ipython3",
   "version": "3.10.9"
  }
 },
 "nbformat": 4,
 "nbformat_minor": 1
}
