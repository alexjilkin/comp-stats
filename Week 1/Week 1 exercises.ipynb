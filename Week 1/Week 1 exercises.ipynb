{
 "cells": [
  {
   "cell_type": "markdown",
   "metadata": {},
   "source": [
    "University of Helsinki, Master's Programme in Mathematics and Statistics  \n",
    "MAST32001 Computational Statistics, Autumn 2023  \n",
    "Luigi Acerbi  \n",
    "\n",
    "# Week 1 exercises"
   ]
  },
  {
   "cell_type": "code",
   "execution_count": 312,
   "metadata": {},
   "outputs": [],
   "source": [
    "# Useful imports\n",
    "%matplotlib inline\n",
    "import numpy as np\n",
    "import numpy.random as npr\n",
    "import matplotlib.pyplot as plt"
   ]
  },
  {
   "cell_type": "markdown",
   "metadata": {},
   "source": [
    "## 1. Input ranges for overflow and underflow (4 pts)\n",
    "\n",
    "i. Write a program to find the largest integer for which `exp()` over double precision floating point numbers (`float64`) returns a finite value.\n",
    "\n",
    "ii. The logistic function $$ \\phi(x) = \\frac{1}{1 + \\exp(-x)} $$ is often used to map the real line to probabilities in the range $(0, 1)$, for example in logistic regression. For real numbers, the equation $ \\phi(x) = 1 $ has no solution, but the same is not true for floating point numbers on a computer. Write a program to determine the smallest integer $ x $ for which $ \\phi(x) =_F 1$ when using double precision floating point (`float64`) arithmetic.\n",
    "\n",
    "*Note*: \"Write a program\" means you should not try out all values manually, but program the computer to find the solution."
   ]
  },
  {
   "cell_type": "code",
   "execution_count": 313,
   "metadata": {},
   "outputs": [
    {
     "name": "stdout",
     "output_type": "stream",
     "text": [
      "biggest int to give finite value is 709\n",
      "inf\n",
      "smallest int to give phi(x)=1 is 37\n",
      "1.0\n"
     ]
    },
    {
     "name": "stderr",
     "output_type": "stream",
     "text": [
      "/var/folders/32/38vlh0g54yq0mx_cl1lqgzhc0000gn/T/ipykernel_60712/3979738010.py:8: RuntimeWarning: overflow encountered in exp\n",
      "  while(np.exp(x) != np.inf):\n",
      "/var/folders/32/38vlh0g54yq0mx_cl1lqgzhc0000gn/T/ipykernel_60712/3979738010.py:12: RuntimeWarning: overflow encountered in exp\n",
      "  print(np.exp(x))\n"
     ]
    }
   ],
   "source": [
    "import sys\n",
    "\n",
    "def phi(x):\n",
    "    return 1 / (1 + np.exp(-x))\n",
    "\n",
    "# Biggest x s.t exp(x) < inf\n",
    "x = 0\n",
    "while(np.exp(x) != np.inf):\n",
    "    x+=1\n",
    "\n",
    "print(f'biggest int to give finite value is {x-1}')\n",
    "print(np.exp(x))\n",
    "\n",
    "# smallest x s.t phi(x) = 1\n",
    "x = 0\n",
    "while (phi(x) != 1):\n",
    "    x += 1\n",
    "    \n",
    "print(f'smallest int to give phi(x)=1 is {x}')\n",
    "print(phi(x))\n"
   ]
  },
  {
   "cell_type": "markdown",
   "metadata": {},
   "source": [
    "## 2. Numerical computation of binomial probabilities (4 pts)\n",
    "\n",
    "Write a computer program to compute sums of binomial probabilities:\n",
    "$$ f(l, u, n, p) = \\sum_{i=l}^u \\binom{n}{i} p^i (1-p)^{n-i}. $$\n",
    "Use it to compute:\n",
    "\n",
    "i. $ f(0, 5, 10, 0.25) = \\sum_{i=0}^{5} \\binom{10}{i} 0.25^i 0.75^{10-i} $\n",
    "\n",
    "ii. $ f(10, 20, 20, 0.25) = \\sum_{i=10}^{20} \\binom{20}{i} 0.25^i 0.75^{20-i} $\n",
    "\n",
    "iii. $ f(40, 60, 100, 0.25) = \\sum_{i=40}^{60} \\binom{100}{i} 0.25^i 0.75^{100-i} $\n",
    "\n",
    "iv. $ f(75, 100, 100, 0.25) = \\sum_{i=75}^{100} \\binom{100}{i} 0.25^i 0.75^{100-i} $\n",
    "\n",
    "*Hint*: Remember to use log probabilities and `logsumexp` as appropriate."
   ]
  },
  {
   "cell_type": "code",
   "execution_count": 314,
   "metadata": {},
   "outputs": [
    {
     "name": "stdout",
     "output_type": "stream",
     "text": [
      "0.9802722930908201\n",
      "0.013864416943761181\n",
      "0.0006865922079343074\n",
      "1.4350852738018013e-25\n"
     ]
    }
   ],
   "source": [
    "from functools import reduce\n",
    "from scipy.special import binom, logsumexp\n",
    "\n",
    "def f(l, u, n, p):\n",
    "    arr = [binom(n, i) * (p**i) * ((1-p)**(n-i)) for i in range(l, u+1)]\n",
    "    log_arr = np.log(arr)\n",
    "    res = logsumexp(log_arr)\n",
    "    # print(log_arr)\n",
    "    print(np.exp(res))\n",
    "\n",
    "#1\n",
    "f(0, 5, 10, 0.25)\n",
    "f(10, 20, 20, 0.25)\n",
    "f(40, 60, 100, 0.25)\n",
    "f(75, 100, 100, 0.25)\n"
   ]
  },
  {
   "cell_type": "markdown",
   "metadata": {},
   "source": [
    "## 3. Numerical evaluation of multivariate normal probabilities (4 pts)\n",
    "\n",
    "Consider the $d$-variate normal distribution $\\mathcal{N}(x;\\; \\mu, \\Sigma)$ with the log-probability density\n",
    "$$ \\ln p(x;\\; \\mu, \\Sigma) = -\\frac{d}{2} \\ln(2 \\pi) - \\frac{1}{2} \\ln |\\det \\Sigma| - \\frac{1}{2} (x - \\mu)^T \\Sigma^{-1} (x - \\mu). $$\n",
    "Let $\\mu = \\begin{pmatrix}0 \\\\ 0\\end{pmatrix}$, $\\Sigma = \\begin{pmatrix}2^2 & 2\\rho \\\\ 2\\rho & 1\\end{pmatrix}$.\n",
    "\n",
    "Evaluate the following log-probabilities:\n",
    "\n",
    "i. $ \\ln p( \\begin{pmatrix}0 \\\\ 0\\end{pmatrix} ; \\; \\mu, \\Sigma), $ when $\\rho = 0.8$\n",
    "\n",
    "ii. $ \\ln p( \\begin{pmatrix}0 \\\\ 0\\end{pmatrix} ; \\; \\mu, \\Sigma), $ when $\\rho = 0.999$\n",
    "\n",
    "iii. $ \\ln p( \\begin{pmatrix}1 \\\\ 1\\end{pmatrix} ; \\; \\mu, \\Sigma), $ when $\\rho = 0.999$\n",
    "\n",
    "iv. $ \\ln p( \\begin{pmatrix}1 \\\\ 1\\end{pmatrix} ; \\; \\mu, \\Sigma), $ when $\\rho = -0.999$\n",
    "\n",
    "*Note*: `ln` denotes the logarithm in natural base (for us it is the same as `log`, per our usual notational convention)."
   ]
  },
  {
   "cell_type": "code",
   "execution_count": 315,
   "metadata": {
    "collapsed": true
   },
   "outputs": [
    {
     "name": "stdout",
     "output_type": "stream",
     "text": [
      "-2.0201986232033\n",
      "0.5765298647626533\n",
      "-62.204860830584956\n",
      "-561.9547357680534\n"
     ]
    }
   ],
   "source": [
    "mu = np.array([0, 0])\n",
    "\n",
    "def sig(p):\n",
    "    return [[4, 2*p], [2*p, 1]]\n",
    "\n",
    "# Determinant\n",
    "def det_sig(p):\n",
    "    return 4 - (4*p*p)\n",
    "\n",
    "d = 2\n",
    "def lnp(x,p):\n",
    "    return -(d/2)*np.log(2*np.pi) - (1/2)*np.log(np.abs(det_sig(p))) - (1/2)*(np.transpose(x-mu) @ np.linalg.inv(sig(p)) @ (x - mu))\n",
    "\n",
    "print(lnp(np.array([0, 0]), 0.8))\n",
    "print(lnp(np.array([0, 0]), 0.999))\n",
    "print(lnp(np.array([1, 1]), 0.999))\n",
    "print(lnp(np.array([1, 1]), -0.999))"
   ]
  },
  {
   "cell_type": "markdown",
   "metadata": {},
   "source": [
    "## 4. Rejection sampling of Beta(2, 3) (4 pts)\n",
    "\n",
    "Write a program to draw samples from the $\\text{Beta(2, 3)}$ distribution\n",
    "$ p(x) = 12 x (1-x)^2, \\quad 0 \\le x \\le 1 $  \n",
    "using the uniform distribution on the interval $(0, 1)$ as the proposal distribution $q(x)$.\n",
    "\n",
    "Remember that you need to find a constant $M$ such that $p(x) \\le M q(x)$ for all $x$. Plotting the function $p(x)/q(x)$ is a good way to start looking for one.\n",
    "\n",
    "Plot a normed histogram of your samples together with the density to check that they match.\n",
    "\n",
    "Draw at least 10000 samples from the distribution and report your estimate of $ \\mathbb{E}[x^5] $ for $ x \\sim \\mathrm{Beta}(2, 3)$.\n",
    "\n",
    "*Note*: Please report the actual value you obtain to Moodle, not your guess of the true value. Values within the expected Monte Carlo error will be accepted as correct.\n",
    "\n",
    "*Hint for evaluating the expectation* $\\mathbb{E}[x^5]$: assuming we have samples $x_i \\sim p(x), i = 1, \\dots, n$ following the distribution $p(x)$, we can compute a simple Monte Carlo approximation of the expectation of an arbitrary function $g(x)$ as\n",
    "$$ \\mathbb{E}_p[g(x)] \\approx \\frac{1}{n} \\sum_{i=1}^n g(x_i), \\qquad \\text{ for } x_i \\sim p(x).$$"
   ]
  },
  {
   "cell_type": "code",
   "execution_count": 316,
   "metadata": {
    "collapsed": true
   },
   "outputs": [
    {
     "name": "stdout",
     "output_type": "stream",
     "text": [
      "0.04782364474533072\n"
     ]
    },
    {
     "data": {
      "text/plain": [
       "(array([0.04958902, 0.13499233, 0.19560114, 0.25070005, 0.34712315,\n",
       "        0.35538798, 0.49038032, 0.5317045 , 0.58955836, 0.68322651,\n",
       "        0.69424629, 0.73006059, 0.87331776, 0.92566172, 0.88433754,\n",
       "        1.01381998, 1.02208482, 1.09646835, 1.1901365 , 1.11299803,\n",
       "        1.27002993, 1.31135411, 1.27553982, 1.40226732, 1.41053215,\n",
       "        1.31410906, 1.42430688, 1.48216074, 1.45461128, 1.40226732,\n",
       "        1.52899481, 1.55929922, 1.61439813, 1.5345047 , 1.72459595,\n",
       "        1.57307394, 1.73286079, 1.71082122, 1.66398715, 1.71908606,\n",
       "        1.79622454, 1.80448937, 1.570319  , 1.6970465 , 1.71633111,\n",
       "        1.74112563, 1.81550916, 1.79071465, 1.66398715, 1.76592014,\n",
       "        1.79897948, 1.73561573, 1.69980144, 1.77418497, 1.73286079,\n",
       "        1.72459595, 1.65021242, 1.73561573, 1.66674209, 1.72184101,\n",
       "        1.67500693, 1.68602671, 1.78244981, 1.74112563, 1.73837068,\n",
       "        1.73010584, 1.64470253, 1.66398715, 1.78244981, 1.6006234 ,\n",
       "        1.55654427, 1.6612322 , 1.62817286, 1.50144536, 1.51246514,\n",
       "        1.56205416, 1.49318052, 1.52899481, 1.42981677, 1.4132871 ,\n",
       "        1.39951237, 1.55654427, 1.38849259, 1.36645302, 1.36369808,\n",
       "        1.32512884, 1.26176509, 1.316864  , 1.23146069, 1.17911672,\n",
       "        1.28380465, 1.08544857, 1.18462661, 1.07993868, 1.12401781,\n",
       "        1.03861449, 1.02759471, 1.09646835, 0.96147602, 0.93117162,\n",
       "        0.8760727 , 0.93943645, 0.85127819, 0.83474852, 0.81821885,\n",
       "        0.76862983, 0.7548551 , 0.83750347, 0.73832542, 0.6887364 ,\n",
       "        0.63639244, 0.63088254, 0.70802102, 0.60057814, 0.5675188 ,\n",
       "        0.49864516, 0.49038032, 0.53445945, 0.50966494, 0.44630119,\n",
       "        0.39395722, 0.4104869 , 0.36640777, 0.36089787, 0.36916271,\n",
       "        0.32783853, 0.3443682 , 0.26722972, 0.25070005, 0.23417038,\n",
       "        0.21213081, 0.21488576, 0.20386598, 0.17080663, 0.16254179,\n",
       "        0.12948244, 0.12397255, 0.08264837, 0.11846266, 0.10468793,\n",
       "        0.06611869, 0.08264837, 0.04958902, 0.07438353, 0.0303044 ,\n",
       "        0.03305935, 0.01652967, 0.01377473, 0.01377473, 0.01652967]),\n",
       " array([8.72422748e-04, 7.39164135e-03, 1.39108600e-02, 2.04300786e-02,\n",
       "        2.69492972e-02, 3.34685158e-02, 3.99877344e-02, 4.65069530e-02,\n",
       "        5.30261716e-02, 5.95453902e-02, 6.60646088e-02, 7.25838274e-02,\n",
       "        7.91030460e-02, 8.56222646e-02, 9.21414832e-02, 9.86607018e-02,\n",
       "        1.05179920e-01, 1.11699139e-01, 1.18218358e-01, 1.24737576e-01,\n",
       "        1.31256795e-01, 1.37776013e-01, 1.44295232e-01, 1.50814451e-01,\n",
       "        1.57333669e-01, 1.63852888e-01, 1.70372106e-01, 1.76891325e-01,\n",
       "        1.83410544e-01, 1.89929762e-01, 1.96448981e-01, 2.02968199e-01,\n",
       "        2.09487418e-01, 2.16006637e-01, 2.22525855e-01, 2.29045074e-01,\n",
       "        2.35564293e-01, 2.42083511e-01, 2.48602730e-01, 2.55121948e-01,\n",
       "        2.61641167e-01, 2.68160386e-01, 2.74679604e-01, 2.81198823e-01,\n",
       "        2.87718041e-01, 2.94237260e-01, 3.00756479e-01, 3.07275697e-01,\n",
       "        3.13794916e-01, 3.20314134e-01, 3.26833353e-01, 3.33352572e-01,\n",
       "        3.39871790e-01, 3.46391009e-01, 3.52910227e-01, 3.59429446e-01,\n",
       "        3.65948665e-01, 3.72467883e-01, 3.78987102e-01, 3.85506320e-01,\n",
       "        3.92025539e-01, 3.98544758e-01, 4.05063976e-01, 4.11583195e-01,\n",
       "        4.18102413e-01, 4.24621632e-01, 4.31140851e-01, 4.37660069e-01,\n",
       "        4.44179288e-01, 4.50698506e-01, 4.57217725e-01, 4.63736944e-01,\n",
       "        4.70256162e-01, 4.76775381e-01, 4.83294600e-01, 4.89813818e-01,\n",
       "        4.96333037e-01, 5.02852255e-01, 5.09371474e-01, 5.15890693e-01,\n",
       "        5.22409911e-01, 5.28929130e-01, 5.35448348e-01, 5.41967567e-01,\n",
       "        5.48486786e-01, 5.55006004e-01, 5.61525223e-01, 5.68044441e-01,\n",
       "        5.74563660e-01, 5.81082879e-01, 5.87602097e-01, 5.94121316e-01,\n",
       "        6.00640534e-01, 6.07159753e-01, 6.13678972e-01, 6.20198190e-01,\n",
       "        6.26717409e-01, 6.33236627e-01, 6.39755846e-01, 6.46275065e-01,\n",
       "        6.52794283e-01, 6.59313502e-01, 6.65832720e-01, 6.72351939e-01,\n",
       "        6.78871158e-01, 6.85390376e-01, 6.91909595e-01, 6.98428813e-01,\n",
       "        7.04948032e-01, 7.11467251e-01, 7.17986469e-01, 7.24505688e-01,\n",
       "        7.31024906e-01, 7.37544125e-01, 7.44063344e-01, 7.50582562e-01,\n",
       "        7.57101781e-01, 7.63621000e-01, 7.70140218e-01, 7.76659437e-01,\n",
       "        7.83178655e-01, 7.89697874e-01, 7.96217093e-01, 8.02736311e-01,\n",
       "        8.09255530e-01, 8.15774748e-01, 8.22293967e-01, 8.28813186e-01,\n",
       "        8.35332404e-01, 8.41851623e-01, 8.48370841e-01, 8.54890060e-01,\n",
       "        8.61409279e-01, 8.67928497e-01, 8.74447716e-01, 8.80966934e-01,\n",
       "        8.87486153e-01, 8.94005372e-01, 9.00524590e-01, 9.07043809e-01,\n",
       "        9.13563027e-01, 9.20082246e-01, 9.26601465e-01, 9.33120683e-01,\n",
       "        9.39639902e-01, 9.46159120e-01, 9.52678339e-01, 9.59197558e-01,\n",
       "        9.65716776e-01, 9.72235995e-01, 9.78755213e-01]),\n",
       " <BarContainer object of 150 artists>)"
      ]
     },
     "execution_count": 316,
     "metadata": {},
     "output_type": "execute_result"
    },
    {
     "data": {
      "image/png": "[encoded data removed]",
      "text/plain": [
       "<Figure size 640x480 with 1 Axes>"
      ]
     },
     "metadata": {},
     "output_type": "display_data"
    }
   ],
   "source": [
    "def p(x):\n",
    "    return 12*x*((1-x)**2)\n",
    "\n",
    "x = np.arange(0, 1, 1e-2)\n",
    "plt.plot(x, p(x))\n",
    "M = 1.8\n",
    "\n",
    "samples = []\n",
    "# Creates an array of samples from Beta(2, 3) using rejection sampling\n",
    "for _ in range(10**5):\n",
    "    y, u = np.random.uniform(), np.random.uniform()\n",
    "    if (u < p(y)/M):\n",
    "        samples.append(y)\n",
    "\n",
    "# Calculates the expected value of x^5\n",
    "expected = np.mean(np.array(samples)**5)\n",
    "print(expected)\n",
    "\n",
    "plt.hist(samples, density=True, bins=150)"
   ]
  },
  {
   "cell_type": "markdown",
   "metadata": {},
   "source": [
    "## 5. Rejection sampling of a Gaussian with Laplace  (4 pts)\n",
    "\n",
    "Consider the standard $\\text{Laplace}(0, 1)$ distribution defined by:\n",
    "$$ q(x) = 1/2 \\exp(- | x | ),$$ \n",
    "and the standard normal distribution defined by\n",
    "$$p(x) = \\frac{1}{\\sqrt{2 \\pi}} \\exp\\left( - \\frac{1}{2} x^2 \\right).$$\n",
    "For both the Laplace and normal distribution, $x \\in (-\\infty, \\infty)$.\n",
    "\n",
    "1. Write a program to draw samples from the $\\text{Laplace}(0, 1)$ distribution. (*Hint*: transformation considered on Lecture 2.) Test your program by comparing the normed histogram of the samples with the density.\n",
    "2. Design a method to draw samples from the standard normal using the standard Laplace distribution as the proposal. (*Hint*: you need to find a constant $M$ such that $p(x) \\le M q(x)$ for all $x$. Plotting the function $p(x)/q(x)$ is again useful for looking for one.)\n",
    "3. Use 10000 samples to compute the expectation $ E[x^4] $ for $ x $ following the standard normal distribution.\n",
    "4. Assume the underlying uniform random generator uses full 53 bits of precision of `float64` and produces random numbers in the range $[2^{-53}, 1]$, that is the smallest number $u$ that can be generated is $2^{-53}$. Considering the same setup as above, what is the largest value the rejection sampling method can generate, if it were executed for long enough? \n",
    "\n",
    "Hints for part 5.4:\n",
    "- You need to check that the algorithm can both generate an extreme value, and accept it.\n",
    "- What's the equation for accepting a value in rejection sampling? In particular, the fact that $u$ cannot be smaller than $2^{-53}$ implies that there are some values of $x$ that you will never be able to accept. Figure out the maximum $x$ that you can accept!\n",
    "- You can use the same $M$ that you used in part 5.2 (as long as you chose a reasonable $M$, the answer will be valid)."
   ]
  },
  {
   "cell_type": "code",
   "execution_count": 317,
   "metadata": {},
   "outputs": [
    {
     "data": {
      "text/plain": [
       "[<matplotlib.lines.Line2D at 0x2c47eb7d0>]"
      ]
     },
     "execution_count": 317,
     "metadata": {},
     "output_type": "execute_result"
    },
    {
     "data": {
      "image/png": "[encoded data removed]",
      "text/plain": [
       "<Figure size 640x480 with 1 Axes>"
      ]
     },
     "metadata": {},
     "output_type": "display_data"
    }
   ],
   "source": [
    "def q(x):\n",
    "    return 0.5*np.exp(-np.abs(x))\n",
    "\n",
    "# Inverse of q\n",
    "def Q_min_1(p):\n",
    "    return np.log(2*p) if p < 0.5 else -np.log(2*(1-p))\n",
    "\n",
    "def p(x):\n",
    "    return (1/np.sqrt(2*np.pi))*np.exp(-(1/2)*(x**2))\n",
    "\n",
    "#### 5.1 ####\n",
    "samples = []\n",
    "\n",
    "# Crates and array of samples distributed as Laplace(0, 1) by using inverse function\n",
    "for _ in range(10**5):\n",
    "    y = np.random.uniform()\n",
    "    samples.append(Q_min_1(y))\n",
    "    \n",
    "plt.hist(samples, bins=1000, density=True)\n",
    "x = np.arange(-10, 10, 1e-3)\n",
    "plt.plot(x, q(x))"
   ]
  },
  {
   "cell_type": "code",
   "execution_count": 318,
   "metadata": {},
   "outputs": [
    {
     "name": "stdout",
     "output_type": "stream",
     "text": [
      "2.9792909475973195\n"
     ]
    },
    {
     "data": {
      "image/png": "[encoded data removed]",
      "text/plain": [
       "<Figure size 640x480 with 1 Axes>"
      ]
     },
     "metadata": {},
     "output_type": "display_data"
    }
   ],
   "source": [
    "#### 5.2 ####\n",
    "\n",
    "def get_normal_sample():\n",
    "    # From plotting I got M s.t p(x) < 1.4*q(x)\n",
    "    M = 1.4\n",
    "    y = Q_min_1(np.random.uniform())\n",
    "    u = np.random.uniform()\n",
    "    if (u < p(y)/(q(y)*M)):\n",
    "          return y\n",
    "    \n",
    "    return get_normal_sample()\n",
    "          \n",
    "samples = [get_normal_sample() for i in range(10**5)]\n",
    "\n",
    "plt.hist(samples, bins=100, density=True)\n",
    "x = np.arange(-5, 5, 1e-3)\n",
    "plt.plot(x, p(x))\n",
    "\n",
    "#### 5.3 ###\n",
    "expected = (np.array(samples)**4).mean()\n",
    "print(expected)"
   ]
  },
  {
   "cell_type": "code",
   "execution_count": 319,
   "metadata": {},
   "outputs": [
    {
     "name": "stdout",
     "output_type": "stream",
     "text": [
      "4.021403098947361\n"
     ]
    }
   ],
   "source": [
    "#### 5.4 ###\n",
    "# In the end calculated using 2^-53 = p(x)/q(x) where in the end I got a quadratic equation to find 9.44093772704\n",
    "# Here it is just a test to see how high it will hit it\n",
    "max_val = 0\n",
    "for _ in range(10**4):\n",
    "    max_val = np.max([max_val, np.abs(get_normal_sample())])\n",
    "\n",
    "print(max_val)\n",
    "\n"
   ]
  }
 ],
 "metadata": {
  "kernelspec": {
   "display_name": "Python 3 (ipykernel)",
   "language": "python",
   "name": "python3"
  },
  "language_info": {
   "codemirror_mode": {
    "name": "ipython",
    "version": 3
   },
   "file_extension": ".py",
   "mimetype": "text/x-python",
   "name": "python",
   "nbconvert_exporter": "python",
   "pygments_lexer": "ipython3",
   "version": "3.11.5"
  }
 },
 "nbformat": 4,
 "nbformat_minor": 1
}
