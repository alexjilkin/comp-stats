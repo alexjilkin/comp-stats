{
 "cells": [
  {
   "cell_type": "markdown",
   "metadata": {},
   "source": [
    "University of Helsinki, Master's Programme in Mathematics and Statistics  \n",
    "MAST32001 Computational Statistics, Autumn 2023  \n",
    "Luigi Acerbi  \n",
    "\n",
    "# Week 1 exercises"
   ]
  },
  {
   "cell_type": "code",
   "execution_count": null,
   "metadata": {},
   "outputs": [],
   "source": [
    "# Useful imports\n",
    "%matplotlib inline\n",
    "import numpy as np\n",
    "import numpy.random as npr\n",
    "import matplotlib.pyplot as plt"
   ]
  },
  {
   "cell_type": "markdown",
   "metadata": {},
   "source": [
    "## 1. Input ranges for overflow and underflow (4 pts)\n",
    "\n",
    "i. Write a program to find the largest integer for which `exp()` over double precision floating point numbers (`float64`) returns a finite value.\n",
    "\n",
    "ii. The logistic function $$ \\phi(x) = \\frac{1}{1 + \\exp(-x)} $$ is often used to map the real line to probabilities in the range $(0, 1)$, for example in logistic regression. For real numbers, the equation $ \\phi(x) = 1 $ has no solution, but the same is not true for floating point numbers on a computer. Write a program to determine the smallest integer $ x $ for which $ \\phi(x) =_F 1$ when using double precision floating point (`float64`) arithmetic.\n",
    "\n",
    "*Note*: \"Write a program\" means you should not try out all values manually, but program the computer to find the solution."
   ]
  },
  {
   "cell_type": "code",
   "execution_count": null,
   "metadata": {},
   "outputs": [
    {
     "name": "stdout",
     "output_type": "stream",
     "text": [
      "710\n",
      "inf\n",
      "37\n",
      "1.0\n"
     ]
    },
    {
     "name": "stderr",
     "output_type": "stream",
     "text": [
      "/var/folders/32/38vlh0g54yq0mx_cl1lqgzhc0000gn/T/ipykernel_7097/3963640133.py:8: RuntimeWarning: overflow encountered in exp\n",
      "  while(np.exp(x) != np.inf):\n",
      "/var/folders/32/38vlh0g54yq0mx_cl1lqgzhc0000gn/T/ipykernel_7097/3963640133.py:11: RuntimeWarning: overflow encountered in exp\n",
      "  print(np.exp(x))\n"
     ]
    }
   ],
   "source": [
    "import sys\n",
    "\n",
    "def phi(x):\n",
    "    return 1 / (1 + np.exp(-x))\n",
    "\n",
    "# Biggest x s.t exp(x) < inf\n",
    "x = 0\n",
    "while(np.exp(x) != np.inf):\n",
    "    x+=1\n",
    "print(x)\n",
    "print(np.exp(x))\n",
    "\n",
    "# smallest x s.t phi(x) = 1\n",
    "x = 0\n",
    "while (phi(x) != 1):\n",
    "    x += 1\n",
    "    \n",
    "print(x)\n",
    "print(phi(x))\n"
   ]
  },
  {
   "cell_type": "markdown",
   "metadata": {},
   "source": [
    "## 2. Numerical computation of binomial probabilities (4 pts)\n",
    "\n",
    "Write a computer program to compute sums of binomial probabilities:\n",
    "$$ f(l, u, n, p) = \\sum_{i=l}^u \\binom{n}{i} p^i (1-p)^{n-i}. $$\n",
    "Use it to compute:\n",
    "\n",
    "i. $ f(0, 5, 10, 0.25) = \\sum_{i=0}^{5} \\binom{10}{i} 0.25^i 0.75^{10-i} $\n",
    "\n",
    "ii. $ f(10, 20, 20, 0.25) = \\sum_{i=10}^{20} \\binom{20}{i} 0.25^i 0.75^{20-i} $\n",
    "\n",
    "iii. $ f(40, 60, 100, 0.25) = \\sum_{i=40}^{60} \\binom{100}{i} 0.25^i 0.75^{100-i} $\n",
    "\n",
    "iv. $ f(75, 100, 100, 0.25) = \\sum_{i=75}^{100} \\binom{100}{i} 0.25^i 0.75^{100-i} $\n",
    "\n",
    "*Hint*: Remember to use log probabilities and `logsumexp` as appropriate."
   ]
  },
  {
   "cell_type": "code",
   "execution_count": null,
   "metadata": {},
   "outputs": [
    {
     "name": "stdout",
     "output_type": "stream",
     "text": [
      "0.9802722930908201\n",
      "0.013864416943761181\n",
      "0.0006865922079343074\n",
      "1.4350852738018013e-25\n"
     ]
    }
   ],
   "source": [
    "from functools import reduce\n",
    "from scipy.special import binom, logsumexp\n",
    "\n",
    "def f(l, u, n, p):\n",
    "    arr = [binom(n, i) * (p**i) * ((1-p)**(n-i)) for i in range(l, u+1)]\n",
    "    log_arr = np.log(arr)\n",
    "    res = logsumexp(log_arr)\n",
    "    # print(log_arr)\n",
    "    print(np.exp(res))\n",
    "\n",
    "#1\n",
    "f(0, 5, 10, 0.25)\n",
    "f(10, 20, 20, 0.25)\n",
    "f(40, 60, 100, 0.25)\n",
    "f(75, 100, 100, 0.25)\n"
   ]
  },
  {
   "cell_type": "markdown",
   "metadata": {},
   "source": [
    "## 3. Numerical evaluation of multivariate normal probabilities (4 pts)\n",
    "\n",
    "Consider the $d$-variate normal distribution $\\mathcal{N}(x;\\; \\mu, \\Sigma)$ with the log-probability density\n",
    "$$ \\ln p(x;\\; \\mu, \\Sigma) = -\\frac{d}{2} \\ln(2 \\pi) - \\frac{1}{2} \\ln |\\det \\Sigma| - \\frac{1}{2} (x - \\mu)^T \\Sigma^{-1} (x - \\mu). $$\n",
    "Let $\\mu = \\begin{pmatrix}0 \\\\ 0\\end{pmatrix}$, $\\Sigma = \\begin{pmatrix}2^2 & 2\\rho \\\\ 2\\rho & 1\\end{pmatrix}$.\n",
    "\n",
    "Evaluate the following log-probabilities:\n",
    "\n",
    "i. $ \\ln p( \\begin{pmatrix}0 \\\\ 0\\end{pmatrix} ; \\; \\mu, \\Sigma), $ when $\\rho = 0.8$\n",
    "\n",
    "ii. $ \\ln p( \\begin{pmatrix}0 \\\\ 0\\end{pmatrix} ; \\; \\mu, \\Sigma), $ when $\\rho = 0.999$\n",
    "\n",
    "iii. $ \\ln p( \\begin{pmatrix}1 \\\\ 1\\end{pmatrix} ; \\; \\mu, \\Sigma), $ when $\\rho = 0.999$\n",
    "\n",
    "iv. $ \\ln p( \\begin{pmatrix}1 \\\\ 1\\end{pmatrix} ; \\; \\mu, \\Sigma), $ when $\\rho = -0.999$\n",
    "\n",
    "*Note*: `ln` denotes the logarithm in natural base (for us it is the same as `log`, per our usual notational convention)."
   ]
  },
  {
   "cell_type": "code",
   "execution_count": 6,
   "metadata": {
    "collapsed": true
   },
   "outputs": [
    {
     "name": "stdout",
     "output_type": "stream",
     "text": [
      "-2.0201986232033\n",
      "0.5765298647626533\n",
      "-62.204860830584956\n",
      "-561.9547357680534\n"
     ]
    }
   ],
   "source": [
    "import numpy as np\n",
    "\n",
    "mu = np.array([0, 0])\n",
    "\n",
    "def sig(p):\n",
    "    return [[4, 2*p], [2*p, 1]]\n",
    "\n",
    "def det_sig(p):\n",
    "    return 4 - (4*p*p)\n",
    "\n",
    "d = 2\n",
    "def lnp(x,p):\n",
    "    return -(d/2)*np.log(2*np.pi) - (1/2)*np.log(np.abs(det_sig(p))) - (1/2)*(np.transpose(x-mu) @ np.linalg.inv(sig(p)) @ (x - mu))\n",
    "\n",
    "print(lnp(np.array([0, 0]), 0.8))\n",
    "print(lnp(np.array([0, 0]), 0.999))\n",
    "print(lnp(np.array([1, 1]), 0.999))\n",
    "print(lnp(np.array([1, 1]), -0.999))"
   ]
  },
  {
   "cell_type": "markdown",
   "metadata": {},
   "source": [
    "## 4. Rejection sampling of Beta(2, 3) (4 pts)\n",
    "\n",
    "Write a program to draw samples from the $\\text{Beta(2, 3)}$ distribution\n",
    "$ p(x) = 12 x (1-x)^2, \\quad 0 \\le x \\le 1 $  \n",
    "using the uniform distribution on the interval $(0, 1)$ as the proposal distribution $q(x)$.\n",
    "\n",
    "Remember that you need to find a constant $M$ such that $p(x) \\le M q(x)$ for all $x$. Plotting the function $p(x)/q(x)$ is a good way to start looking for one.\n",
    "\n",
    "Plot a normed histogram of your samples together with the density to check that they match.\n",
    "\n",
    "Draw at least 10000 samples from the distribution and report your estimate of $ \\mathbb{E}[x^5] $ for $ x \\sim \\mathrm{Beta}(2, 3)$.\n",
    "\n",
    "*Note*: Please report the actual value you obtain to Moodle, not your guess of the true value. Values within the expected Monte Carlo error will be accepted as correct.\n",
    "\n",
    "*Hint for evaluating the expectation* $\\mathbb{E}[x^5]$: assuming we have samples $x_i \\sim p(x), i = 1, \\dots, n$ following the distribution $p(x)$, we can compute a simple Monte Carlo approximation of the expectation of an arbitrary function $g(x)$ as\n",
    "$$ \\mathbb{E}_p[g(x)] \\approx \\frac{1}{n} \\sum_{i=1}^n g(x_i), \\qquad \\text{ for } x_i \\sim p(x).$$"
   ]
  },
  {
   "cell_type": "code",
   "execution_count": null,
   "metadata": {
    "collapsed": true
   },
   "outputs": [
    {
     "name": "stdout",
     "output_type": "stream",
     "text": [
      "0.047492956763560204\n"
     ]
    },
    {
     "data": {
      "text/plain": [
       "(array([0.06073329, 0.15735444, 0.22360893, 0.36716035, 0.33955431,\n",
       "        0.44997847, 0.48310572, 0.59076928, 0.61561472, 0.71499647,\n",
       "        0.64874197, 0.7343207 , 0.87511151, 0.95516903, 0.97173265,\n",
       "        0.98001447, 0.97173265, 1.21742642, 1.18153857, 1.14289011,\n",
       "        1.12356588, 1.30024455, 1.30852636, 1.2698779 , 1.46588079,\n",
       "        1.35821723, 1.46312019, 1.54593831, 1.49072623, 1.45207777,\n",
       "        1.61219281, 1.68120792, 1.56250194, 1.6729261 , 1.61495342,\n",
       "        1.55422013, 1.75022302, 1.72813819, 1.6729261 , 1.61771402,\n",
       "        1.83856235, 1.79439268, 1.70605335, 1.7391806 , 1.87721081,\n",
       "        1.83580175, 1.82475933, 1.83028054, 1.83580175, 1.75850483,\n",
       "        1.83304114, 1.77506846, 1.7391806 , 1.70881396, 1.69501094,\n",
       "        1.77230785, 1.7391806 , 1.63427765, 1.77506846, 1.69225033,\n",
       "        1.67568671, 1.66464429, 1.61771402, 1.79439268, 1.75574423,\n",
       "        1.70605335, 1.62047462, 1.66464429, 1.58734737, 1.56802315,\n",
       "        1.62323523, 1.43827475, 1.48244442, 1.55974133, 1.49900804,\n",
       "        1.57630496, 1.41342931, 1.49072623, 1.42999294, 1.39134448,\n",
       "        1.39134448, 1.39134448, 1.41066871, 1.36649904, 1.31128696,\n",
       "        1.22294763, 1.28368092, 1.29472334, 1.2726385 , 1.27539911,\n",
       "        1.17325676, 1.206384  , 1.10148105, 1.04350836, 1.05179017,\n",
       "        1.04626897, 1.02970534, 1.01314172, 0.90823876, 0.96069024,\n",
       "        0.9330842 , 0.90823876, 0.85854788, 0.90823876, 0.70395405,\n",
       "        0.69291164, 0.76192674, 0.70671466, 0.65702378, 0.65978439,\n",
       "        0.71223587, 0.6680662 , 0.61285412, 0.52727539, 0.56592385,\n",
       "        0.53831781, 0.50795116, 0.47206331, 0.43065424, 0.4665421 ,\n",
       "        0.38096337, 0.36992095, 0.30642706, 0.32023008, 0.33955431,\n",
       "        0.30090585, 0.31746947, 0.25949679, 0.25397558, 0.265018  ,\n",
       "        0.24017256, 0.14907262, 0.17391806, 0.19048168, 0.11594537,\n",
       "        0.12146658, 0.12698779, 0.09662114, 0.10766356, 0.11042417,\n",
       "        0.07729692, 0.04693027, 0.05797269, 0.03036665, 0.01656362,\n",
       "        0.02760604, 0.00828181, 0.01932423, 0.01380302, 0.00552121]),\n",
       " array([0.00263661, 0.00918161, 0.01572661, 0.02227161, 0.02881661,\n",
       "        0.03536161, 0.04190661, 0.04845161, 0.05499661, 0.06154161,\n",
       "        0.06808661, 0.07463161, 0.08117661, 0.08772161, 0.09426661,\n",
       "        0.10081161, 0.10735661, 0.11390161, 0.1204466 , 0.1269916 ,\n",
       "        0.1335366 , 0.1400816 , 0.1466266 , 0.1531716 , 0.1597166 ,\n",
       "        0.1662616 , 0.1728066 , 0.1793516 , 0.1858966 , 0.1924416 ,\n",
       "        0.1989866 , 0.2055316 , 0.2120766 , 0.2186216 , 0.2251666 ,\n",
       "        0.2317116 , 0.2382566 , 0.2448016 , 0.2513466 , 0.2578916 ,\n",
       "        0.2644366 , 0.2709816 , 0.2775266 , 0.2840716 , 0.2906166 ,\n",
       "        0.2971616 , 0.3037066 , 0.31025159, 0.31679659, 0.32334159,\n",
       "        0.32988659, 0.33643159, 0.34297659, 0.34952159, 0.35606659,\n",
       "        0.36261159, 0.36915659, 0.37570159, 0.38224659, 0.38879159,\n",
       "        0.39533659, 0.40188159, 0.40842659, 0.41497159, 0.42151659,\n",
       "        0.42806159, 0.43460659, 0.44115159, 0.44769659, 0.45424159,\n",
       "        0.46078659, 0.46733159, 0.47387659, 0.48042159, 0.48696659,\n",
       "        0.49351158, 0.50005658, 0.50660158, 0.51314658, 0.51969158,\n",
       "        0.52623658, 0.53278158, 0.53932658, 0.54587158, 0.55241658,\n",
       "        0.55896158, 0.56550658, 0.57205158, 0.57859658, 0.58514158,\n",
       "        0.59168658, 0.59823158, 0.60477658, 0.61132158, 0.61786658,\n",
       "        0.62441158, 0.63095658, 0.63750158, 0.64404658, 0.65059158,\n",
       "        0.65713658, 0.66368158, 0.67022658, 0.67677158, 0.68331657,\n",
       "        0.68986157, 0.69640657, 0.70295157, 0.70949657, 0.71604157,\n",
       "        0.72258657, 0.72913157, 0.73567657, 0.74222157, 0.74876657,\n",
       "        0.75531157, 0.76185657, 0.76840157, 0.77494657, 0.78149157,\n",
       "        0.78803657, 0.79458157, 0.80112657, 0.80767157, 0.81421657,\n",
       "        0.82076157, 0.82730657, 0.83385157, 0.84039657, 0.84694157,\n",
       "        0.85348657, 0.86003157, 0.86657657, 0.87312156, 0.87966656,\n",
       "        0.88621156, 0.89275656, 0.89930156, 0.90584656, 0.91239156,\n",
       "        0.91893656, 0.92548156, 0.93202656, 0.93857156, 0.94511656,\n",
       "        0.95166156, 0.95820656, 0.96475156, 0.97129656, 0.97784156,\n",
       "        0.98438656]),\n",
       " <BarContainer object of 150 artists>)"
      ]
     },
     "execution_count": 134,
     "metadata": {},
     "output_type": "execute_result"
    },
    {
     "data": {
      "image/png": "[encoded data removed]",
      "text/plain": [
       "<Figure size 640x480 with 1 Axes>"
      ]
     },
     "metadata": {},
     "output_type": "display_data"
    }
   ],
   "source": [
    "def p(x):\n",
    "    return 12*x*((1-x)**2)\n",
    "\n",
    "x = np.arange(0, 1, 1e-2)\n",
    "plt.plot(x, p(x))\n",
    "M = 1.8\n",
    "\n",
    "samples = []\n",
    "for _ in range(10**5):\n",
    "    y = np.random.uniform()\n",
    "    u = np.random.uniform()\n",
    "    if (u < p(y)/M):\n",
    "        samples.append(y)\n",
    "\n",
    "expected = np.mean(np.array(samples)**5)\n",
    "print(expected)\n",
    "\n",
    "plt.hist(samples, density=True, bins=150)\n",
    "\n"
   ]
  },
  {
   "cell_type": "markdown",
   "metadata": {},
   "source": [
    "## 5. Rejection sampling of a Gaussian with Laplace  (4 pts)\n",
    "\n",
    "Consider the standard $\\text{Laplace}(0, 1)$ distribution defined by:\n",
    "$$ q(x) = 1/2 \\exp(- | x | ),$$ \n",
    "and the standard normal distribution defined by\n",
    "$$p(x) = \\frac{1}{\\sqrt{2 \\pi}} \\exp\\left( - \\frac{1}{2} x^2 \\right).$$\n",
    "For both the Laplace and normal distribution, $x \\in (-\\infty, \\infty)$.\n",
    "\n",
    "1. Write a program to draw samples from the $\\text{Laplace}(0, 1)$ distribution. (*Hint*: transformation considered on Lecture 2.) Test your program by comparing the normed histogram of the samples with the density.\n",
    "2. Design a method to draw samples from the standard normal using the standard Laplace distribution as the proposal. (*Hint*: you need to find a constant $M$ such that $p(x) \\le M q(x)$ for all $x$. Plotting the function $p(x)/q(x)$ is again useful for looking for one.)\n",
    "3. Use 10000 samples to compute the expectation $ E[x^4] $ for $ x $ following the standard normal distribution.\n",
    "4. Assume the underlying uniform random generator uses full 53 bits of precision of `float64` and produces random numbers in the range $[2^{-53}, 1]$, that is the smallest number $u$ that can be generated is $2^{-53}$. Considering the same setup as above, what is the largest value the rejection sampling method can generate, if it were executed for long enough? \n",
    "\n",
    "Hints for part 5.4:\n",
    "- You need to check that the algorithm can both generate an extreme value, and accept it.\n",
    "- What's the equation for accepting a value in rejection sampling? In particular, the fact that $u$ cannot be smaller than $2^{-53}$ implies that there are some values of $x$ that you will never be able to accept. Figure out the maximum $x$ that you can accept!\n",
    "- You can use the same $M$ that you used in part 5.2 (as long as you chose a reasonable $M$, the answer will be valid)."
   ]
  },
  {
   "cell_type": "code",
   "execution_count": null,
   "metadata": {},
   "outputs": [
    {
     "data": {
      "text/plain": [
       "[<matplotlib.lines.Line2D at 0x10ac2b410>]"
      ]
     },
     "execution_count": 146,
     "metadata": {},
     "output_type": "execute_result"
    },
    {
     "data": {
      "image/png": "[encoded data removed]",
      "text/plain": [
       "<Figure size 640x480 with 1 Axes>"
      ]
     },
     "metadata": {},
     "output_type": "display_data"
    }
   ],
   "source": [
    "def q(x):\n",
    "    return 0.5*np.exp(-np.abs(x))\n",
    "\n",
    "def Q_min_1(p):\n",
    "    return np.log(2*p) if p < 0.5 else -np.log(2*(1-p))\n",
    "\n",
    "def p(x):\n",
    "    return (1/np.sqrt(2*np.pi))*np.exp(-(1/2)*(x**2))\n",
    "\n",
    "#### 5.1 ####\n",
    "samples = []\n",
    "for _ in range(10**5):\n",
    "    y = np.random.uniform()\n",
    "    samples.append(Q_min_1(y))\n",
    "    \n",
    "plt.hist(samples, bins=1000, density=True)\n",
    "x = np.arange(-10, 10, 1e-3)\n",
    "plt.plot(x, q(x))\n"
   ]
  },
  {
   "cell_type": "code",
   "execution_count": null,
   "metadata": {},
   "outputs": [
    {
     "name": "stdout",
     "output_type": "stream",
     "text": [
      "2.997659812812986\n"
     ]
    },
    {
     "data": {
      "image/png": "[encoded data removed]",
      "text/plain": [
       "<Figure size 640x480 with 1 Axes>"
      ]
     },
     "metadata": {},
     "output_type": "display_data"
    }
   ],
   "source": [
    "#### 5.2 ####\n",
    "\n",
    "# From plotting s.t p(x) < 1.4*q(x)\n",
    "M = 1.4\n",
    "samples = []\n",
    "for _ in range(10**5):\n",
    "    y = Q_min_1(np.random.uniform())\n",
    "    u = np.random.uniform()\n",
    "    if (u < p(y)/(q(y)*M)):\n",
    "        samples.append(y)\n",
    "\n",
    "plt.hist(samples, bins=100, density=True)\n",
    "x = np.arange(-5, 5, 1e-3)\n",
    "plt.plot(x, p(x))\n",
    "\n",
    "#### 5.3 ###\n",
    "expected = (np.array(samples)**4).mean()\n",
    "print(expected)"
   ]
  },
  {
   "cell_type": "code",
   "execution_count": null,
   "metadata": {},
   "outputs": [],
   "source": [
    "#### 5.4 ###"
   ]
  }
 ],
 "metadata": {
  "kernelspec": {
   "display_name": "Python 3 (ipykernel)",
   "language": "python",
   "name": "python3"
  },
  "language_info": {
   "codemirror_mode": {
    "name": "ipython",
    "version": 3
   },
   "file_extension": ".py",
   "mimetype": "text/x-python",
   "name": "python",
   "nbconvert_exporter": "python",
   "pygments_lexer": "ipython3",
   "version": "3.11.5"
  }
 },
 "nbformat": 4,
 "nbformat_minor": 1
}
