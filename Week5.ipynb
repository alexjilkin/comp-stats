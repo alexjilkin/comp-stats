{
 "cells": [
  {
   "cell_type": "markdown",
   "metadata": {},
   "source": [
    "University of Helsinki, Master's Programme in Mathematics and Statistics  \n",
    "MAST32001 Computational Statistics, Autumn 2023  \n",
    "Luigi Acerbi  \n",
    "\n",
    "# Week 5 exercises\n",
    "\n",
    "For this week exercises, you can implement your code using either Autograd or PyTorch as you prefer.\n",
    "\n",
    "Autograd provides a simpler, more NumPy-like interface, while PyTorch provides a more powerful framework for advanced users. If in doubt, it is probably better to try Autograd. You can port your code to PyTorch later if you wish to experiment with that.\n",
    "\n",
    "Please see Chapter 10 of the course notes and this week's computer tasks for more details and examples of use of both frameworks.\n",
    "\n",
    "-----------------------------------\n",
    "\n",
    "*Hints*:\n",
    "\n",
    "- If you are using Autograd, make sure you always import `autograd.numpy` instead of regular `numpy` and `autograd.scipy` instead of regular `scipy` to allow Autograd to differentiate any functions you use. This can usually be achieved easily using\n",
    "  ```\n",
    "  import autograd.numpy as np\n",
    "  import autograd.scipy.special as scs\n",
    "  ```\n",
    "  and using the packages via `np` and `scs` aliases as usual.\n",
    "- The import trick above is not needed for PyTorch, which does not support differentiation of NumPy and SciPy functions, only its own functions.\n",
    "- If you are having problems with Autograd, please note the following:\n",
    "  * Autograd does not support subscripted assignment (e.g. `a[1] = 2`) and will give a mysterious error if you try.\n",
    "  * Autograd does not support named function arguments (e.g. `f(foo=1, bar=2)`) and will give a mysterious error if you try.\n",
    "  * Autograd can only differentiate functions in `autograd.numpy` and `autograd.scipy`. Check your imports if you get mysterious errors.\n",
    "- If you use PyTorch, please make sure to use the `double` data type. The accuracy of the default data type `float` may not be sufficient."
   ]
  },
  {
   "cell_type": "markdown",
   "metadata": {},
   "source": [
    "## 1. Gradients of a multivariate normal likelihood (4 points)\n",
    "\n",
    "We will test the evaluation and gradient of the multivariate normal likelihood using a covariance matrix specified by a Gaussian process. A 1D Gaussian process is a distribution over continuous functions such that the joint distribution over any finite set of points is multivariate normal (Gaussian). We will use the so-called *squared exponential* covariance function over input points $t_1, \\dots, t_n$ defined by  \n",
    "$$ k(t_i, t_j; \\ell) = \\exp\\left( -\\frac{(t_i-t_j)^2}{2 \\ell^2} \\right), $$\n",
    "where the parameter $\\ell$ is called the *length scale* of the process.\n",
    "\n",
    "1. Write a function to generate a $3 \\times 3$ covariance matrix $K$ such that $K_{i,j} = k(t_i, t_j; \\ell)$ where $t_1 = 1, t_2 = 2, t_3 = 3$ as a function of $\\ell$.\n",
    "2. Evaluate the log-pdf of the vector $x = (1, 0, 1)$ under a multivariate normal with $\\textbf{0}$ mean and the above covariance matrix $K$ with $\\ell = 2$. Report the value of the log-pdf to Moodle.\n",
    "3. Evaluate the finite difference approximation to the gradient of the log-pdf with respect to $\\ell$ at the point $\\ell=2, x=(1, 0, 1)$ with $h = 10^{-3}$ (`1e-3`) and report it to Moodle. *Note*: Use the first-order finite difference formula presented in Section 10.2 of the lecture notes\n",
    "4. Evaluate the exact gradient of the log-pdf with respect to $\\ell$ at the point $\\ell = 2, x = (1, 0, 1)$ using automatic differentiation and report it to Moodle.\n",
    "\n",
    "*Hint*: you can generate a matrix of differences of $t$ values in NumPy using the `None` index to create a new dimension:\n",
    "```\n",
    "t = np.array([1.0, 2.0, 3.0])\n",
    "dt = t[:,None] - t[None,:]\n",
    "```\n",
    "\n",
    "In PyTorch, the corresponding trick works but the input needs to be a `tensor`:\n",
    "```\n",
    "torch.set_default_dtype(torch.double)\n",
    "# Uncomment this to run on GPU:\n",
    "# torch.set_default_tensor_type(torch.cuda.DoubleTensor)\n",
    "\n",
    "t = torch.tensor([1.0, 2.0, 3.0])\n",
    "dt = t[:,None] - t[None,:]\n",
    "```\n",
    "\n",
    "Useful PyTorch functions for evaluating the multivariate normal density that differ from NumPy: `torch.linalg.solve()`, `torch.dot()`"
   ]
  },
  {
   "cell_type": "code",
   "execution_count": 19,
   "metadata": {},
   "outputs": [
    {
     "name": "stdout",
     "output_type": "stream",
     "text": [
      "(2) -21.219486088440927\n",
      "(3) g'(x)=-34.738367964504135 \n"
     ]
    },
    {
     "ename": "NotImplementedError",
     "evalue": "VJP of det wrt argnums (0,) not defined",
     "output_type": "error",
     "traceback": [
      "\u001b[0;31m---------------------------------------------------------------------------\u001b[0m",
      "\u001b[0;31mKeyError\u001b[0m                                  Traceback (most recent call last)",
      "File \u001b[0;32m/opt/homebrew/lib/python3.11/site-packages/autograd/core.py:31\u001b[0m, in \u001b[0;36mVJPNode.__init__\u001b[0;34m(self, value, fun, args, kwargs, parent_argnums, parents)\u001b[0m\n\u001b[1;32m     30\u001b[0m \u001b[39mtry\u001b[39;00m:\n\u001b[0;32m---> 31\u001b[0m     vjpmaker \u001b[39m=\u001b[39m primitive_vjps[fun]\n\u001b[1;32m     32\u001b[0m \u001b[39mexcept\u001b[39;00m \u001b[39mKeyError\u001b[39;00m:\n",
      "\u001b[0;31mKeyError\u001b[0m: <function primitive.<locals>.f_wrapped at 0x12481b060>",
      "\nDuring handling of the above exception, another exception occurred:\n",
      "\u001b[0;31mNotImplementedError\u001b[0m                       Traceback (most recent call last)",
      "\u001b[1;32m/Users/ajilkin/Documents/Masters/comp-stats/Week5.ipynb Cell 3\u001b[0m line \u001b[0;36m3\n\u001b[1;32m     <a href='vscode-notebook-cell:/Users/ajilkin/Documents/Masters/comp-stats/Week5.ipynb#W2sZmlsZQ%3D%3D?line=35'>36</a>\u001b[0m fin_diff \u001b[39m=\u001b[39m (g(\u001b[39m2\u001b[39m\u001b[39m+\u001b[39mh) \u001b[39m-\u001b[39m g(\u001b[39m2\u001b[39m)) \u001b[39m/\u001b[39m h\n\u001b[1;32m     <a href='vscode-notebook-cell:/Users/ajilkin/Documents/Masters/comp-stats/Week5.ipynb#W2sZmlsZQ%3D%3D?line=36'>37</a>\u001b[0m \u001b[39mprint\u001b[39m(\u001b[39mf\u001b[39m\u001b[39m'\u001b[39m\u001b[39m(3) g\u001b[39m\u001b[39m\\'\u001b[39;00m\u001b[39m(x)=\u001b[39m\u001b[39m{\u001b[39;00mfin_diff\u001b[39m}\u001b[39;00m\u001b[39m \u001b[39m\u001b[39m'\u001b[39m)\n\u001b[0;32m---> <a href='vscode-notebook-cell:/Users/ajilkin/Documents/Masters/comp-stats/Week5.ipynb#W2sZmlsZQ%3D%3D?line=38'>39</a>\u001b[0m \u001b[39mprint\u001b[39m(grad(g)(\u001b[39m2.0\u001b[39;49m))\n\u001b[1;32m     <a href='vscode-notebook-cell:/Users/ajilkin/Documents/Masters/comp-stats/Week5.ipynb#W2sZmlsZQ%3D%3D?line=39'>40</a>\u001b[0m \u001b[39m# print(f'(4) grad g\\'(x)={}')\u001b[39;00m\n",
      "File \u001b[0;32m/opt/homebrew/lib/python3.11/site-packages/autograd/wrap_util.py:20\u001b[0m, in \u001b[0;36munary_to_nary.<locals>.nary_operator.<locals>.nary_f\u001b[0;34m(*args, **kwargs)\u001b[0m\n\u001b[1;32m     18\u001b[0m \u001b[39melse\u001b[39;00m:\n\u001b[1;32m     19\u001b[0m     x \u001b[39m=\u001b[39m \u001b[39mtuple\u001b[39m(args[i] \u001b[39mfor\u001b[39;00m i \u001b[39min\u001b[39;00m argnum)\n\u001b[0;32m---> 20\u001b[0m \u001b[39mreturn\u001b[39;00m unary_operator(unary_f, x, \u001b[39m*\u001b[39;49mnary_op_args, \u001b[39m*\u001b[39;49m\u001b[39m*\u001b[39;49mnary_op_kwargs)\n",
      "File \u001b[0;32m/opt/homebrew/lib/python3.11/site-packages/autograd/differential_operators.py:28\u001b[0m, in \u001b[0;36mgrad\u001b[0;34m(fun, x)\u001b[0m\n\u001b[1;32m     21\u001b[0m \u001b[39m@unary_to_nary\u001b[39m\n\u001b[1;32m     22\u001b[0m \u001b[39mdef\u001b[39;00m \u001b[39mgrad\u001b[39m(fun, x):\n\u001b[1;32m     23\u001b[0m \u001b[39m    \u001b[39m\u001b[39m\"\"\"\u001b[39;00m\n\u001b[1;32m     24\u001b[0m \u001b[39m    Returns a function which computes the gradient of `fun` with respect to\u001b[39;00m\n\u001b[1;32m     25\u001b[0m \u001b[39m    positional argument number `argnum`. The returned function takes the same\u001b[39;00m\n\u001b[1;32m     26\u001b[0m \u001b[39m    arguments as `fun`, but returns the gradient instead. The function `fun`\u001b[39;00m\n\u001b[1;32m     27\u001b[0m \u001b[39m    should be scalar-valued. The gradient has the same type as the argument.\"\"\"\u001b[39;00m\n\u001b[0;32m---> 28\u001b[0m     vjp, ans \u001b[39m=\u001b[39m _make_vjp(fun, x)\n\u001b[1;32m     29\u001b[0m     \u001b[39mif\u001b[39;00m \u001b[39mnot\u001b[39;00m vspace(ans)\u001b[39m.\u001b[39msize \u001b[39m==\u001b[39m \u001b[39m1\u001b[39m:\n\u001b[1;32m     30\u001b[0m         \u001b[39mraise\u001b[39;00m \u001b[39mTypeError\u001b[39;00m(\u001b[39m\"\u001b[39m\u001b[39mGrad only applies to real scalar-output functions. \u001b[39m\u001b[39m\"\u001b[39m\n\u001b[1;32m     31\u001b[0m                         \u001b[39m\"\u001b[39m\u001b[39mTry jacobian, elementwise_grad or holomorphic_grad.\u001b[39m\u001b[39m\"\u001b[39m)\n",
      "File \u001b[0;32m/opt/homebrew/lib/python3.11/site-packages/autograd/core.py:10\u001b[0m, in \u001b[0;36mmake_vjp\u001b[0;34m(fun, x)\u001b[0m\n\u001b[1;32m      8\u001b[0m \u001b[39mdef\u001b[39;00m \u001b[39mmake_vjp\u001b[39m(fun, x):\n\u001b[1;32m      9\u001b[0m     start_node \u001b[39m=\u001b[39m VJPNode\u001b[39m.\u001b[39mnew_root()\n\u001b[0;32m---> 10\u001b[0m     end_value, end_node \u001b[39m=\u001b[39m  trace(start_node, fun, x)\n\u001b[1;32m     11\u001b[0m     \u001b[39mif\u001b[39;00m end_node \u001b[39mis\u001b[39;00m \u001b[39mNone\u001b[39;00m:\n\u001b[1;32m     12\u001b[0m         \u001b[39mdef\u001b[39;00m \u001b[39mvjp\u001b[39m(g): \u001b[39mreturn\u001b[39;00m vspace(x)\u001b[39m.\u001b[39mzeros()\n",
      "File \u001b[0;32m/opt/homebrew/lib/python3.11/site-packages/autograd/tracer.py:10\u001b[0m, in \u001b[0;36mtrace\u001b[0;34m(start_node, fun, x)\u001b[0m\n\u001b[1;32m      8\u001b[0m \u001b[39mwith\u001b[39;00m trace_stack\u001b[39m.\u001b[39mnew_trace() \u001b[39mas\u001b[39;00m t:\n\u001b[1;32m      9\u001b[0m     start_box \u001b[39m=\u001b[39m new_box(x, t, start_node)\n\u001b[0;32m---> 10\u001b[0m     end_box \u001b[39m=\u001b[39m fun(start_box)\n\u001b[1;32m     11\u001b[0m     \u001b[39mif\u001b[39;00m isbox(end_box) \u001b[39mand\u001b[39;00m end_box\u001b[39m.\u001b[39m_trace \u001b[39m==\u001b[39m start_box\u001b[39m.\u001b[39m_trace:\n\u001b[1;32m     12\u001b[0m         \u001b[39mreturn\u001b[39;00m end_box\u001b[39m.\u001b[39m_value, end_box\u001b[39m.\u001b[39m_node\n",
      "File \u001b[0;32m/opt/homebrew/lib/python3.11/site-packages/autograd/wrap_util.py:15\u001b[0m, in \u001b[0;36munary_to_nary.<locals>.nary_operator.<locals>.nary_f.<locals>.unary_f\u001b[0;34m(x)\u001b[0m\n\u001b[1;32m     13\u001b[0m \u001b[39melse\u001b[39;00m:\n\u001b[1;32m     14\u001b[0m     subargs \u001b[39m=\u001b[39m subvals(args, \u001b[39mzip\u001b[39m(argnum, x))\n\u001b[0;32m---> 15\u001b[0m \u001b[39mreturn\u001b[39;00m fun(\u001b[39m*\u001b[39;49msubargs, \u001b[39m*\u001b[39;49m\u001b[39m*\u001b[39;49mkwargs)\n",
      "\u001b[1;32m/Users/ajilkin/Documents/Masters/comp-stats/Week5.ipynb Cell 3\u001b[0m line \u001b[0;36m2\n\u001b[1;32m     <a href='vscode-notebook-cell:/Users/ajilkin/Documents/Masters/comp-stats/Week5.ipynb#W2sZmlsZQ%3D%3D?line=20'>21</a>\u001b[0m mean \u001b[39m=\u001b[39m np\u001b[39m.\u001b[39mzeros(\u001b[39m3\u001b[39m)\n\u001b[1;32m     <a href='vscode-notebook-cell:/Users/ajilkin/Documents/Masters/comp-stats/Week5.ipynb#W2sZmlsZQ%3D%3D?line=22'>23</a>\u001b[0m n \u001b[39m=\u001b[39m x\u001b[39m.\u001b[39mshape[\u001b[39m0\u001b[39m]\n\u001b[0;32m---> <a href='vscode-notebook-cell:/Users/ajilkin/Documents/Masters/comp-stats/Week5.ipynb#W2sZmlsZQ%3D%3D?line=23'>24</a>\u001b[0m log_det_K \u001b[39m=\u001b[39m np\u001b[39m.\u001b[39mlog(det(gen_K))\n\u001b[1;32m     <a href='vscode-notebook-cell:/Users/ajilkin/Documents/Masters/comp-stats/Week5.ipynb#W2sZmlsZQ%3D%3D?line=24'>25</a>\u001b[0m diff \u001b[39m=\u001b[39m x \u001b[39m-\u001b[39m mean\n\u001b[1;32m     <a href='vscode-notebook-cell:/Users/ajilkin/Documents/Masters/comp-stats/Week5.ipynb#W2sZmlsZQ%3D%3D?line=25'>26</a>\u001b[0m maha_dist \u001b[39m=\u001b[39m np\u001b[39m.\u001b[39mdot(diff, solve(gen_K, diff))\n",
      "File \u001b[0;32m/opt/homebrew/lib/python3.11/site-packages/autograd/tracer.py:45\u001b[0m, in \u001b[0;36mprimitive.<locals>.f_wrapped\u001b[0;34m(*args, **kwargs)\u001b[0m\n\u001b[1;32m     43\u001b[0m     argnums \u001b[39m=\u001b[39m \u001b[39mtuple\u001b[39m(argnum    \u001b[39mfor\u001b[39;00m argnum, _   \u001b[39min\u001b[39;00m boxed_args)\n\u001b[1;32m     44\u001b[0m     ans \u001b[39m=\u001b[39m f_wrapped(\u001b[39m*\u001b[39margvals, \u001b[39m*\u001b[39m\u001b[39m*\u001b[39mkwargs)\n\u001b[0;32m---> 45\u001b[0m     node \u001b[39m=\u001b[39m node_constructor(ans, f_wrapped, argvals, kwargs, argnums, parents)\n\u001b[1;32m     46\u001b[0m     \u001b[39mreturn\u001b[39;00m new_box(ans, trace, node)\n\u001b[1;32m     47\u001b[0m \u001b[39melse\u001b[39;00m:\n",
      "File \u001b[0;32m/opt/homebrew/lib/python3.11/site-packages/autograd/core.py:34\u001b[0m, in \u001b[0;36mVJPNode.__init__\u001b[0;34m(self, value, fun, args, kwargs, parent_argnums, parents)\u001b[0m\n\u001b[1;32m     32\u001b[0m \u001b[39mexcept\u001b[39;00m \u001b[39mKeyError\u001b[39;00m:\n\u001b[1;32m     33\u001b[0m     fun_name \u001b[39m=\u001b[39m \u001b[39mgetattr\u001b[39m(fun, \u001b[39m'\u001b[39m\u001b[39m__name__\u001b[39m\u001b[39m'\u001b[39m, fun)\n\u001b[0;32m---> 34\u001b[0m     \u001b[39mraise\u001b[39;00m \u001b[39mNotImplementedError\u001b[39;00m(\u001b[39m\"\u001b[39m\u001b[39mVJP of \u001b[39m\u001b[39m{}\u001b[39;00m\u001b[39m wrt argnums \u001b[39m\u001b[39m{}\u001b[39;00m\u001b[39m not defined\u001b[39m\u001b[39m\"\u001b[39m\n\u001b[1;32m     35\u001b[0m                               \u001b[39m.\u001b[39mformat(fun_name, parent_argnums))\n\u001b[1;32m     36\u001b[0m \u001b[39mself\u001b[39m\u001b[39m.\u001b[39mvjp \u001b[39m=\u001b[39m vjpmaker(parent_argnums, value, args, kwargs)\n",
      "\u001b[0;31mNotImplementedError\u001b[0m: VJP of det wrt argnums (0,) not defined"
     ]
    }
   ],
   "source": [
    "import autograd.numpy as np\n",
    "import autograd.scipy.stats as stats\n",
    "from autograd import grad \n",
    "from autograd.scipy.linalg import det, solve\n",
    "\n",
    "t = [1.0, 2.0, 3.0]\n",
    "n = 3\n",
    "\n",
    "def k(t_i, t_j, l):\n",
    "    return np.exp(-((t_i-t_j)**2)/(2*l**2))\n",
    "\n",
    "def K(l,n):\n",
    "    t = np.array([1, 2, 3])\n",
    "    dt = t[:, None] - t[None, :]\n",
    "    K = np.exp(- dt**2 / (2 * l**2))\n",
    "    return K\n",
    "\n",
    "def g(l):\n",
    "    gen_K = K(l, 3)\n",
    "    x = np.array([1, 0, 1])\n",
    "    mean = np.zeros(3)\n",
    "    \n",
    "    n = x.shape[0]\n",
    "    log_det_K = np.log(det(gen_K))\n",
    "    diff = x - mean\n",
    "    maha_dist = np.dot(diff, solve(gen_K, diff))\n",
    "    \n",
    "    return -0.5 * n * np.log(2 * np.pi) - 0.5 * log_det_K - 0.5 * maha_dist\n",
    "\n",
    "logpdf_res = g(2.0)\n",
    "\n",
    "print(f'(2) {logpdf_res}')\n",
    "\n",
    "h=1e-3\n",
    "\n",
    "fin_diff = (g(2+h) - g(2)) / h\n",
    "print(f'(3) g\\'(x)={fin_diff} ')\n",
    "\n",
    "print(grad(g)(2.0))\n",
    "# print(f'(4) grad g\\'(x)={}')\n"
   ]
  },
  {
   "cell_type": "markdown",
   "metadata": {},
   "source": [
    "## 2. Maximum likelihood estimation of the gamma distribution (4 points)\n",
    "\n",
    "In this exercise we test maximum likelihood estimation of the [Gamma distribution](https://en.wikipedia.org/wiki/Gamma_distribution) to a given data set.\n",
    "\n",
    "Note that the parameters $\\alpha$ and $\\beta$ of the Gamma distribution need to be positive. This can be accomplised by using $a$ and $b$ satisfying $\\alpha = \\exp(a)$ and $\\beta = \\exp(b)$ as variables in the optimization.\n",
    "\n",
    "1. Load the data set $\\mathcal{D} = \\{ x_i | i = 1, \\dots, n \\}$ using the function below.\n",
    "2. Find the maximum likelihood fit for the parameters $\\alpha$ and $\\beta$ of the Gamma distribution $\\Gamma(\\alpha, \\beta)$ when $x_i \\sim \\Gamma(\\alpha, \\beta)$.\n",
    "3. Plot the maximum likelihood distribution together with a normed histogram of the data to check your estimates.\n",
    "4. Report your estimates $\\alpha$ and $\\beta$ in Moodle. (*Note*: please remember to report $\\alpha$ and $\\beta$, not $a$ and $b$.)\n",
    "\n",
    "*Hints*: \n",
    "- Feel free to use the implementation of the Gamma distribution pdf provided below. Note that here we are using the shape-rate parametrization of the Gamma pdf.\n",
    "- Note that we are performing maximum-likelihood estimation, not Bayesian inference. There is no prior here. So, there is no prior density that needs to be corrected when you transform from $\\alpha \\rightarrow a$ and $\\beta \\rightarrow b$."
   ]
  },
  {
   "cell_type": "code",
   "execution_count": null,
   "metadata": {},
   "outputs": [],
   "source": [
    "# Autograd code\n",
    "import autograd.scipy.special as scs\n",
    "import autograd.numpy as np\n",
    "import pandas as pd\n",
    "from scipy.optimize import minimize\n",
    "import autograd\n",
    "\n",
    "data = pd.read_csv('https://raw.githubusercontent.com/lacerbi/compstats-files/main/data/toydata.txt', sep='\\t', header=None).values\n",
    "\n",
    "def gamma_logpdf_autograd(x, alpha, beta):\n",
    "    \"\"\"Log pdf of the Gamma distribution.\"\"\"\n",
    "    return (alpha*np.log(beta) - scs.gammaln(alpha) + (alpha-1) * np.log(x) - beta * x)\n"
   ]
  },
  {
   "cell_type": "code",
   "execution_count": null,
   "metadata": {},
   "outputs": [
    {
     "ename": "SystemError",
     "evalue": "() method: bad call flags",
     "output_type": "error",
     "traceback": [
      "\u001b[0;31m---------------------------------------------------------------------------\u001b[0m",
      "\u001b[0;31mSystemError\u001b[0m                               Traceback (most recent call last)",
      "\u001b[1;32m/Users/ajilkin/Documents/Masters/comp-stats/Week5.ipynb Cell 6\u001b[0m line \u001b[0;36m2\n\u001b[1;32m      <a href='vscode-notebook-cell:/Users/ajilkin/Documents/Masters/comp-stats/Week5.ipynb#W5sZmlsZQ%3D%3D?line=0'>1</a>\u001b[0m \u001b[39m# PyTorch code\u001b[39;00m\n\u001b[0;32m----> <a href='vscode-notebook-cell:/Users/ajilkin/Documents/Masters/comp-stats/Week5.ipynb#W5sZmlsZQ%3D%3D?line=1'>2</a>\u001b[0m \u001b[39mimport\u001b[39;00m \u001b[39mtorch\u001b[39;00m\n\u001b[1;32m      <a href='vscode-notebook-cell:/Users/ajilkin/Documents/Masters/comp-stats/Week5.ipynb#W5sZmlsZQ%3D%3D?line=2'>3</a>\u001b[0m \u001b[39mimport\u001b[39;00m \u001b[39mpandas\u001b[39;00m \u001b[39mas\u001b[39;00m \u001b[39mpd\u001b[39;00m\n\u001b[1;32m      <a href='vscode-notebook-cell:/Users/ajilkin/Documents/Masters/comp-stats/Week5.ipynb#W5sZmlsZQ%3D%3D?line=4'>5</a>\u001b[0m data \u001b[39m=\u001b[39m torch\u001b[39m.\u001b[39mtensor(pd\u001b[39m.\u001b[39mread_csv(\u001b[39m'\u001b[39m\u001b[39mhttps://raw.githubusercontent.com/lacerbi/compstats-files/main/data/toydata.txt\u001b[39m\u001b[39m'\u001b[39m, sep\u001b[39m=\u001b[39m\u001b[39m'\u001b[39m\u001b[39m\\t\u001b[39;00m\u001b[39m'\u001b[39m, header\u001b[39m=\u001b[39m\u001b[39mNone\u001b[39;00m)\u001b[39m.\u001b[39mvalues, dtype\u001b[39m=\u001b[39mtorch\u001b[39m.\u001b[39mdouble)\n",
      "File \u001b[0;32m/opt/homebrew/lib/python3.11/site-packages/torch/__init__.py:229\u001b[0m\n\u001b[1;32m    227\u001b[0m     \u001b[39mif\u001b[39;00m USE_GLOBAL_DEPS:\n\u001b[1;32m    228\u001b[0m         _load_global_deps()\n\u001b[0;32m--> 229\u001b[0m     \u001b[39mfrom\u001b[39;00m \u001b[39mtorch\u001b[39;00m\u001b[39m.\u001b[39;00m\u001b[39m_C\u001b[39;00m \u001b[39mimport\u001b[39;00m \u001b[39m*\u001b[39m  \u001b[39m# noqa: F403\u001b[39;00m\n\u001b[1;32m    231\u001b[0m \u001b[39m# Appease the type checker; ordinarily this binding is inserted by the\u001b[39;00m\n\u001b[1;32m    232\u001b[0m \u001b[39m# torch._C module initialization code in C\u001b[39;00m\n\u001b[1;32m    233\u001b[0m \u001b[39mif\u001b[39;00m TYPE_CHECKING:\n",
      "\u001b[0;31mSystemError\u001b[0m: () method: bad call flags"
     ]
    }
   ],
   "source": [
    "# PyTorch code\n",
    "import torch\n",
    "import pandas as pd\n",
    "\n",
    "data = torch.tensor(pd.read_csv('https://raw.githubusercontent.com/lacerbi/compstats-files/main/data/toydata.txt', sep='\\t', header=None).values, dtype=torch.double)\n",
    "\n",
    "def gamma_logpdf_pytorch(x, alpha, beta):\n",
    "    \"\"\"Log pdf of the Gamma distribution.\"\"\"    \n",
    "    return (alpha*torch.log(beta) - torch.lgamma(alpha) + (alpha-1) * torch.log(x) - beta * x)\n"
   ]
  },
  {
   "cell_type": "markdown",
   "metadata": {
    "collapsed": true
   },
   "source": [
    "## 3. Student-$t$ regression (6 points)\n",
    "\n",
    "In this task we will apply linear regression to data from the Framingham Heart Study that studies the association between heart disease and its causes.\n",
    "\n",
    "A description of the data and its fields can be found at http://www.maths.utas.edu.au/DHStat/Data/Flow.html (see also problem 10.4 in the computer tasks done in class).\n",
    "\n",
    "In this exercise, we will use the [Student-$t$ distribution](https://en.wikipedia.org/wiki/Student%27s_t-distribution) for the noise. This provides a form of robust regression due to the heavy tails of the Student-$t$ distribution, which makes it less affected by outliers.\n",
    "\n",
    "Linear regression fit to scalar $x_i, y_i$ involves fitting the model\n",
    "$$ y_i = \\alpha + \\beta x_i + \\epsilon_i, $$\n",
    "where $\\beta$ is the regression coefficient and $\\alpha$ is the intercept. Assuming $\\epsilon_i \\sim p(\\epsilon_i | \\sigma)$, the log-likelihood of the model is\n",
    "$$ \\log p(Y | X, \\alpha, \\beta, \\sigma) = \\sum_{i=1}^n \\log p(y_i | x_i, \\alpha, \\beta, \\sigma)\n",
    "  = \\sum_{i=1}^n \\log p_{\\epsilon_i}(y_i - \\alpha - \\beta x_i;\\; \\sigma), $$\n",
    "where $p_{\\epsilon_i}(y_i - \\alpha - \\beta x_i;\\; \\sigma)$ is the probability density of\n",
    "the noise $\\epsilon_i$, evaluated at $y_i - \\alpha - \\beta x_i$. \n",
    "In Problem 3 from Week 2, and in the computer task 10.3 and 10.4, we used a normal distribution for $p_{\\epsilon_i}$ whereas here we will use the Student-$t$ distribution with $\\nu = 5$ degrees of freedom and scale parameter $\\sigma = 1$.\n",
    "\n",
    "1. Load the data using the below code and plot the data.\n",
    "2. Fit the data using standard linear regression with normally distributed errors ($p_{\\epsilon_i} = \\mathcal{N}(\\epsilon_i;\\; 0, \\sigma^2)$ with $\\sigma^2 = 1$). Report the $\\alpha$ and $\\beta$ you found in Moodle. (*Hint*: Problem 3 from Week 2 contains the formulas for $\\alpha$ and $\\beta$.)\n",
    "3. Implement linear regression using the Student-$t$ log-likelihood function ($p_{\\epsilon_i} = \\text{Student-}t(\\epsilon_i;\\; 0, \\sigma, \\nu)$) with degrees of freedom (df) $\\nu = 5$ and $\\sigma = 1$, and maximise it (i.e. minimise the negative log-likelihood). Plot the fitted regression line in the same figure as the data.\n",
    "4. Compare the coefficients $\\alpha$ and $\\beta$ you found for Student-$t$ regression with those from the standard linear regression. What can you observe? Report the coefficients you found in Moodle.\n",
    "\n",
    "*Hint*: Feel free to use the Student-$t$ log-likelihood function implementations provided below."
   ]
  },
  {
   "cell_type": "code",
   "execution_count": 46,
   "metadata": {},
   "outputs": [
    {
     "name": "stdout",
     "output_type": "stream",
     "text": [
      "(2) Estimate of alpha=131.73220676134514 beta=0.06969627715093442\n"
     ]
    },
    {
     "data": {
      "text/plain": [
       "  message: Optimization terminated successfully.\n",
       "  success: True\n",
       "   status: 0\n",
       "      fun: -170362.54200626805\n",
       "        x: [ 5.875e+06 -1.719e+07]\n",
       "      nit: 32\n",
       "      jac: [ 0.000e+00  0.000e+00]\n",
       " hess_inv: [[ 1.969e+08 -5.761e+08]\n",
       "            [-5.761e+08  1.685e+09]]\n",
       "     nfev: 102\n",
       "     njev: 34"
      ]
     },
     "execution_count": 46,
     "metadata": {},
     "output_type": "execute_result"
    },
    {
     "data": {
      "image/png": "[encoded data removed]",
      "text/plain": [
       "<Figure size 640x480 with 1 Axes>"
      ]
     },
     "metadata": {},
     "output_type": "display_data"
    }
   ],
   "source": [
    "# Code for autograd\n",
    "%matplotlib inline\n",
    "import pandas as pd\n",
    "import autograd.numpy as np\n",
    "import autograd.scipy.special as scs\n",
    "import autograd\n",
    "import matplotlib.pyplot as plt\n",
    "from scipy.optimize import minimize\n",
    "\n",
    "# load the data from CSV file using pandas\n",
    "fram = pd.read_csv('https://raw.githubusercontent.com/lacerbi/compstats-files/main/data/fram.txt', sep='\\t')\n",
    "# convert the variables of interest to numpy arrays\n",
    "# input: Blood cholesterol level\n",
    "x = fram['CHOL'].values\n",
    "# target: Systolic blood pressure, examination 1\n",
    "y = fram['SBP'].values\n",
    "plt.scatter(x, y, s=0.6)\n",
    "\n",
    "beta_estimate = np.sum((y - np.mean(y)) * (x - np.mean(x))) / np.sum((x - np.mean(x)) ** 2)\n",
    "alpha_estimate = np.mean(y) - beta_estimate*np.mean(x)\n",
    "\n",
    "print(f'(2) Estimate of alpha={alpha_estimate} beta={beta_estimate}')\n",
    "\n",
    "nu = 5\n",
    "\n",
    "# plt.plot(x, y)\n",
    "def student_logpdf_autograd(x, nu):\n",
    "    \"\"\"Log pdf of Student-t distribution with nu degrees of freedom.\"\"\"\n",
    "    return scs.gammaln(0.5*(nu+1)) - scs.gammaln(0.5*nu) - 0.5*np.log(nu*np.pi) - 0.5*(nu+1)*np.log(1 + x**2/nu)\n",
    "\n",
    "def f(beta, alpha, x):\n",
    "    return beta*x + alpha \n",
    "\n",
    "def ll(params, x, y_actual, nu):\n",
    "    beta, alpha = params\n",
    "    resi = y_actual - f(beta, alpha, x)\n",
    "\n",
    "    return np.sum(student_logpdf_autograd(resi, nu))\n",
    "\n",
    "minimize(ll, [1, 0], args=(x, y, nu))\n"
   ]
  },
  {
   "cell_type": "code",
   "execution_count": 50,
   "metadata": {},
   "outputs": [
    {
     "name": "stdout",
     "output_type": "stream",
     "text": [
      "(2) Estimate of alpha=131.73220676134514 beta=0.06969627715093442\n",
      "(4) Linref alpha=0.008185544050881016 beta=137.93151039484434\n"
     ]
    },
    {
     "data": {
      "image/png": "[encoded data removed]",
      "text/plain": [
       "<Figure size 640x480 with 1 Axes>"
      ]
     },
     "metadata": {},
     "output_type": "display_data"
    }
   ],
   "source": [
    "# Code for autograd\n",
    "%matplotlib inline\n",
    "import pandas as pd\n",
    "import autograd.numpy as np\n",
    "import autograd.scipy.special as scs\n",
    "import autograd\n",
    "import matplotlib.pyplot as plt\n",
    "from scipy.optimize import minimize\n",
    "\n",
    "# load the data from CSV file using pandas\n",
    "fram = pd.read_csv('https://raw.githubusercontent.com/lacerbi/compstats-files/main/data/fram.txt', sep='\\t')\n",
    "# convert the variables of interest to numpy arrays\n",
    "# input: Blood cholesterol level\n",
    "x = fram['CHOL'].values\n",
    "# target: Systolic blood pressure, examination 1\n",
    "y = fram['SBP'].values\n",
    "plt.scatter(x, y, s=0.6)\n",
    "\n",
    "beta_estimate = np.sum((y - np.mean(y)) * (x - np.mean(x))) / np.sum((x - np.mean(x)) ** 2)\n",
    "alpha_estimate = np.mean(y) - beta_estimate*np.mean(x)\n",
    "\n",
    "print(f'(2) Estimate of alpha={alpha_estimate} beta={beta_estimate}')\n",
    "\n",
    "nu = 5\n",
    "\n",
    "# plt.plot(x, y)\n",
    "def student_logpdf_autograd(x, nu):\n",
    "    \"\"\"Log pdf of Student-t distribution with nu degrees of freedom.\"\"\"\n",
    "    return scs.gammaln(0.5*(nu+1)) - scs.gammaln(0.5*nu) - 0.5*np.log(nu*np.pi) - 0.5*(nu+1)*np.log(1 + x**2/nu)\n",
    "\n",
    "def f(beta, alpha, x):\n",
    "    return beta*x + alpha \n",
    "\n",
    "def ll(params, x, y_actual, nu):\n",
    "    beta, alpha = params\n",
    "    resi = y_actual - f(beta, alpha, x)\n",
    "\n",
    "    return -np.sum(student_logpdf_autograd(resi, nu))\n",
    "\n",
    "res = minimize(ll, [beta_estimate, alpha_estimate], args=(x, y, nu))\n",
    "beta, alpha = res.x\n",
    "\n",
    "print(f'(4) Linreg alpha={alpha} beta={beta}')"
   ]
  },
  {
   "cell_type": "code",
   "execution_count": null,
   "metadata": {},
   "outputs": [],
   "source": [
    "# Code for PyTorch\n",
    "%matplotlib inline\n",
    "import pandas as pd\n",
    "import torch\n",
    "import math\n",
    "import matplotlib.pyplot as plt\n",
    "\n",
    "# load the data from CSV file using pandas\n",
    "fram = pd.read_csv('https://raw.githubusercontent.com/lacerbi/compstats-files/main/data/fram.txt', sep='\\t')\n",
    "# convert the variables of interest to numpy arrays\n",
    "# input: Framingham relative weight - the ratio of the subjects weight to the median weight for their sex-height group\n",
    "x = torch.tensor(fram['CHOL'].values, dtype=torch.double)\n",
    "# target: Systolic blood pressure, examination 1\n",
    "y = torch.tensor(fram['SBP'].values, dtype=torch.double)\n",
    "\n",
    "def student_logpdf_pytorch(x, nu):\n",
    "    \"\"\"Log pdf of Student-t distribution with nu degrees of freedom.\"\"\"    \n",
    "    return torch.lgamma(0.5*(nu+1)) - torch.lgamma(0.5*nu) - 0.5*math.log(math.pi) - 0.5*torch.log(nu) - 0.5*(nu+1)*torch.log(1 + x**2/nu)"
   ]
  },
  {
   "cell_type": "markdown",
   "metadata": {},
   "source": [
    "## 4. Variational inference for a mixture model (6 points)\n",
    "\n",
    "In this problem, you are asked to estimate the posterior over the parameters of a mixture model using variational inference.\n",
    "\n",
    "Find the posterior for the mixing weight $w$ and means $\\mu_1, \\mu_2$ in the normal mixture model\n",
    "$$ p(x_i | \\pi, \\mu_1, \\mu_2) = w \\mathcal{N}(x_i;\\; \\mu_1, 1^2) + (1-w) \\mathcal{N}(x_i;\\; \\mu_2, 1^2) $$\n",
    "for the data set loaded below.\n",
    "\n",
    "In order to ensure $0 \\le w \\le 1$, we will reparametrise it using the logistic transformation as $w = 1 / (1 + \\exp(-\\gamma))$. \n",
    "\n",
    "We will use normal priors for $\\mu_1, \\mu_2$ and a logistic-normal prior for $w$, which is equivalent to setting a normal prior for $\\gamma$. The exact priors are\n",
    "$$ p(\\mu_1) = \\mathcal{N}(\\mu_1;\\; 0, \\sqrt{10}^2) \\quad \n",
    "   p(\\mu_2) = \\mathcal{N}(\\mu_2;\\; 0, \\sqrt{10}^2) \\quad\n",
    "   p(\\gamma) = \\mathcal{N}(\\gamma;\\; 0, 1.78^2), $$\n",
    "and as usual we assume factorized (i.e., independent) priors, $p(\\mu_1, \\mu_2, \\gamma) = p(\\mu_1) p(\\mu_2) p(\\gamma)$.\n",
    "\n",
    "As variational distribution we will use a product of independent distributions,\n",
    "\n",
    "$$q(\\mu_1, \\mu_2, \\gamma) = q(\\mu_1) \\cdot q(\\mu_2) \\cdot q(\\gamma)$$\n",
    "\n",
    "where  $q(\\mu_1)$, $q(\\mu_2)$ and $q(\\gamma)$ are normal distributions. Fit the variational approximation $q(\\mu_1, \\mu_2, \\gamma)$ to the posterior distribution of the model.\n",
    "\n",
    "Use the stochastic gradient algorithm introduced in Chapter 12 of the course notes (doubly-stochastic variational inference,  DSVI). Please note that the independence assumption above is equivalent to saying that $q(\\mu_1, \\mu_2, \\gamma)$ is a multivariate normal with diagonal covariance matrix $\\Sigma$.\n",
    "\n",
    "Report the means and standard deviations of $q(\\mu_1)$ and $q(\\mu_2)$, and the mean and standard deviation of $w$ under $q(\\gamma)$ in Moodle. The required tolerance is $\\pm 0.03$. When reporting the values to Moodle, please order the components so that the mean of the first component is lower than the mean of the second component, i.e. $\\mathbb{E}[\\mu_1] < \\mathbb{E}[\\mu_2]$.\n",
    "\n",
    "*Hints*: \n",
    "- Computing the mean and standard deviation of $w$ requires extra effort because the approximation $q(\\gamma)$ is over $\\gamma$. The easiest way to solve this problem is to draw a number of samples from $q(\\gamma)$, transform those to $w$ and compute the mean and standard deviation of the transformed samples.\n",
    "- Note that the prior $p(\\gamma)$ is already defined in the transformed (unconstrained) space, so you do not need to apply the Jacobian correction to the density used when transforming variables.\n",
    "- You can reuse the code for DSVI provided in the class computer tasks, but note that it works for 1-D targets. You will need to adapt it to work with a 3-D target (or otherwise write your own code from scratch).\n",
    "- Be sure that you report positive values for the standard deviation."
   ]
  },
  {
   "cell_type": "code",
   "execution_count": null,
   "metadata": {},
   "outputs": [],
   "source": [
    "%matplotlib inline\n",
    "import pandas as pd\n",
    "import matplotlib.pyplot as plt\n",
    "\n",
    "dataframe = pd.read_csv('https://raw.githubusercontent.com/lacerbi/compstats-files/main/data/mixture_data2.txt', header=None, sep='\\t')\n",
    "mixdata = dataframe.values[:,0]\n",
    "print(mixdata.mean(), mixdata.std())"
   ]
  },
  {
   "cell_type": "code",
   "execution_count": null,
   "metadata": {},
   "outputs": [],
   "source": []
  }
 ],
 "metadata": {
  "kernelspec": {
   "display_name": "Python 3 (ipykernel)",
   "language": "python",
   "name": "python3"
  },
  "language_info": {
   "codemirror_mode": {
    "name": "ipython",
    "version": 3
   },
   "file_extension": ".py",
   "mimetype": "text/x-python",
   "name": "python",
   "nbconvert_exporter": "python",
   "pygments_lexer": "ipython3",
   "version": "3.11.5"
  }
 },
 "nbformat": 4,
 "nbformat_minor": 1
}
